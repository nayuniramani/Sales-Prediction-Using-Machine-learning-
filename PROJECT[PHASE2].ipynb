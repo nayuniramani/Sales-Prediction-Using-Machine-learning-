{
 "cells": [
  {
   "cell_type": "markdown",
   "id": "6e01e583",
   "metadata": {},
   "source": [
    "## STEP1: Initilization of packagaes and importing Data"
   ]
  },
  {
   "cell_type": "code",
   "execution_count": 1,
   "id": "85a307af",
   "metadata": {},
   "outputs": [],
   "source": [
    "import numpy as np\n",
    "# numpy is a numeric python and it is a open source library in python which is used working with arrays."
   ]
  },
  {
   "cell_type": "code",
   "execution_count": 2,
   "id": "3806a6a6",
   "metadata": {},
   "outputs": [],
   "source": [
    "import pandas as pd\n",
    "# Pandas is an open-source Python Library providing high-performance data manipulation and analysis tool using its powerful data structures.\n",
    "# pandas is used to load the data, prepare, manipulate, model, and analyze."
   ]
  },
  {
   "cell_type": "code",
   "execution_count": 3,
   "id": "f4a58982",
   "metadata": {},
   "outputs": [],
   "source": [
    "import matplotlib.pyplot as plt\n",
    "# Matplotlib is an amazing visualization library in Python for 2D plots of arrays."
   ]
  },
  {
   "cell_type": "code",
   "execution_count": 4,
   "id": "c0277d5c",
   "metadata": {},
   "outputs": [],
   "source": [
    "import seaborn as sns\n",
    "#Seaborn is a library mostly used for statistical plotting in Python. It is built on top of Matplotlib and provides beautiful default styles and color palettes to make statistical plots more attractive."
   ]
  },
  {
   "cell_type": "code",
   "execution_count": 5,
   "id": "54cda1a7",
   "metadata": {},
   "outputs": [],
   "source": [
    "import warnings # Ignores any warning\n",
    "warnings.filterwarnings(\"ignore\")"
   ]
  },
  {
   "cell_type": "code",
   "execution_count": 6,
   "id": "b2b1687f",
   "metadata": {},
   "outputs": [],
   "source": [
    "# reading the datasets\n",
    "train = pd.read_csv(\"C:/Users/DELL/Desktop/Train.csv\")\n",
    "test = pd.read_csv(\"C:/Users/DELL/Desktop/Test.csv\")"
   ]
  },
  {
   "cell_type": "code",
   "execution_count": 7,
   "id": "9cb5445e",
   "metadata": {},
   "outputs": [
    {
     "name": "stdout",
     "output_type": "stream",
     "text": [
      "<class 'pandas.core.frame.DataFrame'>\n",
      "RangeIndex: 9523 entries, 0 to 9522\n",
      "Data columns (total 18 columns):\n",
      " #   Column                     Non-Null Count  Dtype  \n",
      "---  ------                     --------------  -----  \n",
      " 0   Identifier_Of_Item         9523 non-null   object \n",
      " 1   Weight_Of_Item             7874 non-null   float64\n",
      " 2   Content_Of_Fat             9523 non-null   object \n",
      " 3   Visibility_Of_Item         9523 non-null   float64\n",
      " 4   Type_Of_Item               9523 non-null   object \n",
      " 5   MRP_Of_Item                9523 non-null   float64\n",
      " 6   Identifier_Of_Outlet       9523 non-null   object \n",
      " 7   Outlet_Establishment_Year  9523 non-null   int64  \n",
      " 8   Store_Capacity             6842 non-null   object \n",
      " 9   Outlet_Location_Type       9523 non-null   object \n",
      " 10  Outlet_Type                9523 non-null   object \n",
      " 11  IsNewCust                  8679 non-null   object \n",
      " 12  IsSpecialDay               9488 non-null   object \n",
      " 13  Advertising_Of_Item        9458 non-null   object \n",
      " 14  Population_Density         8816 non-null   object \n",
      " 15  Product_Packing            9463 non-null   object \n",
      " 16  Discount_Of_Item           9087 non-null   object \n",
      " 17  Item_Outlet_Sales          9523 non-null   float64\n",
      "dtypes: float64(4), int64(1), object(13)\n",
      "memory usage: 1.3+ MB\n"
     ]
    }
   ],
   "source": [
    "# basic information about train data\n",
    "train.info()"
   ]
  },
  {
   "cell_type": "code",
   "execution_count": 8,
   "id": "51e39537",
   "metadata": {},
   "outputs": [
    {
     "data": {
      "text/plain": [
       "Identifier_Of_Item              0\n",
       "Weight_Of_Item               1649\n",
       "Content_Of_Fat                  0\n",
       "Visibility_Of_Item              0\n",
       "Type_Of_Item                    0\n",
       "MRP_Of_Item                     0\n",
       "Identifier_Of_Outlet            0\n",
       "Outlet_Establishment_Year       0\n",
       "Store_Capacity               2681\n",
       "Outlet_Location_Type            0\n",
       "Outlet_Type                     0\n",
       "IsNewCust                     844\n",
       "IsSpecialDay                   35\n",
       "Advertising_Of_Item            65\n",
       "Population_Density            707\n",
       "Product_Packing                60\n",
       "Discount_Of_Item              436\n",
       "Item_Outlet_Sales               0\n",
       "dtype: int64"
      ]
     },
     "execution_count": 8,
     "metadata": {},
     "output_type": "execute_result"
    }
   ],
   "source": [
    "train.isnull().sum()"
   ]
  },
  {
   "cell_type": "code",
   "execution_count": 9,
   "id": "1f0dfcba",
   "metadata": {},
   "outputs": [],
   "source": [
    "train['Weight_Of_Item']=train['Weight_Of_Item'].fillna(train.groupby('Identifier_Of_Item')['Weight_Of_Item'].transform('mean'))"
   ]
  },
  {
   "cell_type": "code",
   "execution_count": 10,
   "id": "e22af8ca",
   "metadata": {},
   "outputs": [
    {
     "data": {
      "text/plain": [
       "4"
      ]
     },
     "execution_count": 10,
     "metadata": {},
     "output_type": "execute_result"
    }
   ],
   "source": [
    "train.Weight_Of_Item.isnull().sum()"
   ]
  },
  {
   "cell_type": "code",
   "execution_count": 11,
   "id": "82ee6904",
   "metadata": {},
   "outputs": [
    {
     "data": {
      "text/html": [
       "<div>\n",
       "<style scoped>\n",
       "    .dataframe tbody tr th:only-of-type {\n",
       "        vertical-align: middle;\n",
       "    }\n",
       "\n",
       "    .dataframe tbody tr th {\n",
       "        vertical-align: top;\n",
       "    }\n",
       "\n",
       "    .dataframe thead th {\n",
       "        text-align: right;\n",
       "    }\n",
       "</style>\n",
       "<table border=\"1\" class=\"dataframe\">\n",
       "  <thead>\n",
       "    <tr style=\"text-align: right;\">\n",
       "      <th>Outlet_Type</th>\n",
       "      <th>Grocery Store</th>\n",
       "      <th>Supermarket Type1</th>\n",
       "      <th>Supermarket Type2</th>\n",
       "      <th>Supermarket Type3</th>\n",
       "    </tr>\n",
       "  </thead>\n",
       "  <tbody>\n",
       "    <tr>\n",
       "      <th>Store_Capacity</th>\n",
       "      <td>Small</td>\n",
       "      <td>Small</td>\n",
       "      <td>Medium</td>\n",
       "      <td>Medium</td>\n",
       "    </tr>\n",
       "  </tbody>\n",
       "</table>\n",
       "</div>"
      ],
      "text/plain": [
       "Outlet_Type    Grocery Store Supermarket Type1 Supermarket Type2  \\\n",
       "Store_Capacity         Small             Small            Medium   \n",
       "\n",
       "Outlet_Type    Supermarket Type3  \n",
       "Store_Capacity            Medium  "
      ]
     },
     "execution_count": 11,
     "metadata": {},
     "output_type": "execute_result"
    }
   ],
   "source": [
    "#Import mode function:\n",
    "from scipy.stats import mode\n",
    "\n",
    "#Determing the mode for each\n",
    "Store_Capacity_mode = train.pivot_table(values='Store_Capacity', columns='Outlet_Type',aggfunc=lambda x:x.mode())\n",
    "Store_Capacity_mode"
   ]
  },
  {
   "cell_type": "code",
   "execution_count": 12,
   "id": "93ab00e2",
   "metadata": {},
   "outputs": [
    {
     "name": "stdout",
     "output_type": "stream",
     "text": [
      "Orignal #missing: 2681\n",
      "Final #missing: 0\n"
     ]
    }
   ],
   "source": [
    "def impute_size_mode(cols):\n",
    "    Size = cols[0]\n",
    "    Type = cols[1]\n",
    "    if pd.isnull(Size):\n",
    "        return Store_Capacity_mode.loc['Store_Capacity'][Store_Capacity_mode.columns == Type][0]\n",
    "    else:\n",
    "        return Size\n",
    "\n",
    "print ('Orignal #missing: %d'%sum(train['Store_Capacity'].isnull()))\n",
    "train['Store_Capacity'] = train[['Store_Capacity','Outlet_Type']].apply(impute_size_mode,axis=1)\n",
    "print ('Final #missing: %d'%sum(train['Store_Capacity'].isnull()))"
   ]
  },
  {
   "cell_type": "code",
   "execution_count": 13,
   "id": "e4c563d7",
   "metadata": {},
   "outputs": [],
   "source": [
    "Visibility_Of_Item_avg = train.pivot_table(values='Visibility_Of_Item',index='Identifier_Of_Item')"
   ]
  },
  {
   "cell_type": "code",
   "execution_count": 14,
   "id": "3f90303e",
   "metadata": {},
   "outputs": [
    {
     "name": "stdout",
     "output_type": "stream",
     "text": [
      "Original #zeros: 591\n",
      "Final #zeros: 0\n"
     ]
    }
   ],
   "source": [
    "def impute_visibility_mean(cols):\n",
    "    visibility = cols[0]\n",
    "    item = cols[1]\n",
    "    if visibility == 0:\n",
    "        return Visibility_Of_Item_avg['Visibility_Of_Item'][Visibility_Of_Item_avg.index == item]\n",
    "    else:\n",
    "        return visibility\n",
    "\n",
    "print ('Original #zeros: %d'%sum(train['Visibility_Of_Item'] == 0))\n",
    "train['Visibility_Of_Item'] = train[['Visibility_Of_Item','Identifier_Of_Item']].apply(impute_visibility_mean,axis=1).astype(float)\n",
    "print ('Final #zeros: %d'%sum(train['Visibility_Of_Item'] == 0))"
   ]
  },
  {
   "cell_type": "code",
   "execution_count": 15,
   "id": "74957d2c",
   "metadata": {},
   "outputs": [
    {
     "data": {
      "text/html": [
       "<div>\n",
       "<style scoped>\n",
       "    .dataframe tbody tr th:only-of-type {\n",
       "        vertical-align: middle;\n",
       "    }\n",
       "\n",
       "    .dataframe tbody tr th {\n",
       "        vertical-align: top;\n",
       "    }\n",
       "\n",
       "    .dataframe thead th {\n",
       "        text-align: right;\n",
       "    }\n",
       "</style>\n",
       "<table border=\"1\" class=\"dataframe\">\n",
       "  <thead>\n",
       "    <tr style=\"text-align: right;\">\n",
       "      <th>Type_Of_Item</th>\n",
       "      <th>Baby Products</th>\n",
       "      <th>Breakfast</th>\n",
       "      <th>Cleaning &amp; HousehOld</th>\n",
       "      <th>Cosmetics</th>\n",
       "      <th>Daily Staple</th>\n",
       "      <th>Fashion Garments</th>\n",
       "      <th>Fruits and Vegetables</th>\n",
       "      <th>Health and Hygiene</th>\n",
       "      <th>Home &amp; Kitchen</th>\n",
       "      <th>Leather Goods</th>\n",
       "      <th>Others</th>\n",
       "      <th>Snack items</th>\n",
       "      <th>Soft Drinks</th>\n",
       "      <th>Starchy Foods</th>\n",
       "      <th>Toys &amp; Game Products</th>\n",
       "      <th>cake item</th>\n",
       "    </tr>\n",
       "  </thead>\n",
       "  <tbody>\n",
       "    <tr>\n",
       "      <th>Product_Packing</th>\n",
       "      <td>good</td>\n",
       "      <td>good</td>\n",
       "      <td>good</td>\n",
       "      <td>good</td>\n",
       "      <td>good</td>\n",
       "      <td>good</td>\n",
       "      <td>good</td>\n",
       "      <td>good</td>\n",
       "      <td>good</td>\n",
       "      <td>good</td>\n",
       "      <td>good</td>\n",
       "      <td>good</td>\n",
       "      <td>good</td>\n",
       "      <td>good</td>\n",
       "      <td>good</td>\n",
       "      <td>good</td>\n",
       "    </tr>\n",
       "  </tbody>\n",
       "</table>\n",
       "</div>"
      ],
      "text/plain": [
       "Type_Of_Item    Baby Products Breakfast Cleaning & HousehOld Cosmetics  \\\n",
       "Product_Packing          good      good                 good      good   \n",
       "\n",
       "Type_Of_Item    Daily Staple Fashion Garments Fruits and Vegetables  \\\n",
       "Product_Packing         good             good                  good   \n",
       "\n",
       "Type_Of_Item    Health and Hygiene Home & Kitchen Leather Goods Others  \\\n",
       "Product_Packing               good           good          good   good   \n",
       "\n",
       "Type_Of_Item    Snack items Soft Drinks Starchy Foods Toys & Game Products  \\\n",
       "Product_Packing        good        good          good                 good   \n",
       "\n",
       "Type_Of_Item    cake item  \n",
       "Product_Packing      good  "
      ]
     },
     "execution_count": 15,
     "metadata": {},
     "output_type": "execute_result"
    }
   ],
   "source": [
    "from scipy.stats import mode\n",
    "\n",
    "#Determing the mode for each\n",
    "Product_Packing_mode = train.pivot_table(values='Product_Packing', columns='Type_Of_Item',aggfunc=lambda x:x.mode())\n",
    "Product_Packing_mode"
   ]
  },
  {
   "cell_type": "code",
   "execution_count": 16,
   "id": "889f593c",
   "metadata": {},
   "outputs": [
    {
     "name": "stdout",
     "output_type": "stream",
     "text": [
      "Orignal #missing: 60\n",
      "Final #missing: 0\n"
     ]
    }
   ],
   "source": [
    "def impute_size_mode(cols):\n",
    "    Size = cols[0]\n",
    "    Type = cols[1]\n",
    "    if pd.isnull(Size):\n",
    "        return Product_Packing_mode.loc['Product_Packing'][Product_Packing_mode.columns == Type][0]\n",
    "    else:\n",
    "        return Size\n",
    "\n",
    "print ('Orignal #missing: %d'%sum(train['Product_Packing'].isnull()))\n",
    "train['Product_Packing'] = train[['Product_Packing','Type_Of_Item']].apply(impute_size_mode,axis=1)\n",
    "print ('Final #missing: %d'%sum(train['Product_Packing'].isnull()))"
   ]
  },
  {
   "cell_type": "code",
   "execution_count": 17,
   "id": "c3416155",
   "metadata": {},
   "outputs": [
    {
     "data": {
      "text/html": [
       "<div>\n",
       "<style scoped>\n",
       "    .dataframe tbody tr th:only-of-type {\n",
       "        vertical-align: middle;\n",
       "    }\n",
       "\n",
       "    .dataframe tbody tr th {\n",
       "        vertical-align: top;\n",
       "    }\n",
       "\n",
       "    .dataframe thead th {\n",
       "        text-align: right;\n",
       "    }\n",
       "</style>\n",
       "<table border=\"1\" class=\"dataframe\">\n",
       "  <thead>\n",
       "    <tr style=\"text-align: right;\">\n",
       "      <th>Type_Of_Item</th>\n",
       "      <th>Baby Products</th>\n",
       "      <th>Breakfast</th>\n",
       "      <th>Cleaning &amp; HousehOld</th>\n",
       "      <th>Cosmetics</th>\n",
       "      <th>Daily Staple</th>\n",
       "      <th>Fashion Garments</th>\n",
       "      <th>Fruits and Vegetables</th>\n",
       "      <th>Health and Hygiene</th>\n",
       "      <th>Home &amp; Kitchen</th>\n",
       "      <th>Leather Goods</th>\n",
       "      <th>Others</th>\n",
       "      <th>Snack items</th>\n",
       "      <th>Soft Drinks</th>\n",
       "      <th>Starchy Foods</th>\n",
       "      <th>Toys &amp; Game Products</th>\n",
       "      <th>cake item</th>\n",
       "    </tr>\n",
       "  </thead>\n",
       "  <tbody>\n",
       "    <tr>\n",
       "      <th>Population_Density</th>\n",
       "      <td>Level1</td>\n",
       "      <td>Level1</td>\n",
       "      <td>Level1</td>\n",
       "      <td>Level1</td>\n",
       "      <td>Level1</td>\n",
       "      <td>Level1</td>\n",
       "      <td>Level1</td>\n",
       "      <td>Level1</td>\n",
       "      <td>Level1</td>\n",
       "      <td>Level1</td>\n",
       "      <td>Level1</td>\n",
       "      <td>Level1</td>\n",
       "      <td>Level1</td>\n",
       "      <td>Level1</td>\n",
       "      <td>Level1</td>\n",
       "      <td>Level1</td>\n",
       "    </tr>\n",
       "  </tbody>\n",
       "</table>\n",
       "</div>"
      ],
      "text/plain": [
       "Type_Of_Item       Baby Products Breakfast Cleaning & HousehOld Cosmetics  \\\n",
       "Population_Density        Level1    Level1               Level1    Level1   \n",
       "\n",
       "Type_Of_Item       Daily Staple Fashion Garments Fruits and Vegetables  \\\n",
       "Population_Density       Level1           Level1                Level1   \n",
       "\n",
       "Type_Of_Item       Health and Hygiene Home & Kitchen Leather Goods  Others  \\\n",
       "Population_Density             Level1         Level1        Level1  Level1   \n",
       "\n",
       "Type_Of_Item       Snack items Soft Drinks Starchy Foods Toys & Game Products  \\\n",
       "Population_Density      Level1      Level1        Level1               Level1   \n",
       "\n",
       "Type_Of_Item       cake item  \n",
       "Population_Density    Level1  "
      ]
     },
     "execution_count": 17,
     "metadata": {},
     "output_type": "execute_result"
    }
   ],
   "source": [
    "from scipy.stats import mode\n",
    "\n",
    "#Determing the mode for each\n",
    "Population_Density_mode = train.pivot_table(values='Population_Density', columns='Type_Of_Item',aggfunc=lambda x:x.mode())\n",
    "Population_Density_mode"
   ]
  },
  {
   "cell_type": "code",
   "execution_count": 18,
   "id": "b524f138",
   "metadata": {},
   "outputs": [
    {
     "name": "stdout",
     "output_type": "stream",
     "text": [
      "Orignal #missing: 707\n",
      "Final #missing: 0\n"
     ]
    }
   ],
   "source": [
    "def impute_size_mode(cols):\n",
    "    Size = cols[0]\n",
    "    Type = cols[1]\n",
    "    if pd.isnull(Size):\n",
    "        return Population_Density_mode.loc['Population_Density'][Population_Density_mode.columns == Type][0]\n",
    "    else:\n",
    "        return Size\n",
    "\n",
    "print ('Orignal #missing: %d'%sum(train['Population_Density'].isnull()))\n",
    "train['Population_Density'] = train[['Population_Density','Type_Of_Item']].apply(impute_size_mode,axis=1)\n",
    "print ('Final #missing: %d'%sum(train['Population_Density'].isnull()))"
   ]
  },
  {
   "cell_type": "code",
   "execution_count": 19,
   "id": "de3b8041",
   "metadata": {},
   "outputs": [
    {
     "data": {
      "text/html": [
       "<div>\n",
       "<style scoped>\n",
       "    .dataframe tbody tr th:only-of-type {\n",
       "        vertical-align: middle;\n",
       "    }\n",
       "\n",
       "    .dataframe tbody tr th {\n",
       "        vertical-align: top;\n",
       "    }\n",
       "\n",
       "    .dataframe thead th {\n",
       "        text-align: right;\n",
       "    }\n",
       "</style>\n",
       "<table border=\"1\" class=\"dataframe\">\n",
       "  <thead>\n",
       "    <tr style=\"text-align: right;\">\n",
       "      <th>Type_Of_Item</th>\n",
       "      <th>Baby Products</th>\n",
       "      <th>Breakfast</th>\n",
       "      <th>Cleaning &amp; HousehOld</th>\n",
       "      <th>Cosmetics</th>\n",
       "      <th>Daily Staple</th>\n",
       "      <th>Fashion Garments</th>\n",
       "      <th>Fruits and Vegetables</th>\n",
       "      <th>Health and Hygiene</th>\n",
       "      <th>Home &amp; Kitchen</th>\n",
       "      <th>Leather Goods</th>\n",
       "      <th>Others</th>\n",
       "      <th>Snack items</th>\n",
       "      <th>Soft Drinks</th>\n",
       "      <th>Starchy Foods</th>\n",
       "      <th>Toys &amp; Game Products</th>\n",
       "      <th>cake item</th>\n",
       "    </tr>\n",
       "  </thead>\n",
       "  <tbody>\n",
       "    <tr>\n",
       "      <th>Advertising_Of_Item</th>\n",
       "      <td>yes</td>\n",
       "      <td>yes</td>\n",
       "      <td>yes</td>\n",
       "      <td>yes</td>\n",
       "      <td>yes</td>\n",
       "      <td>yes</td>\n",
       "      <td>yes</td>\n",
       "      <td>yes</td>\n",
       "      <td>yes</td>\n",
       "      <td>yes</td>\n",
       "      <td>yes</td>\n",
       "      <td>yes</td>\n",
       "      <td>yes</td>\n",
       "      <td>yes</td>\n",
       "      <td>yes</td>\n",
       "      <td>yes</td>\n",
       "    </tr>\n",
       "  </tbody>\n",
       "</table>\n",
       "</div>"
      ],
      "text/plain": [
       "Type_Of_Item        Baby Products Breakfast Cleaning & HousehOld Cosmetics  \\\n",
       "Advertising_Of_Item           yes       yes                  yes       yes   \n",
       "\n",
       "Type_Of_Item        Daily Staple Fashion Garments Fruits and Vegetables  \\\n",
       "Advertising_Of_Item          yes              yes                   yes   \n",
       "\n",
       "Type_Of_Item        Health and Hygiene Home & Kitchen Leather Goods Others  \\\n",
       "Advertising_Of_Item                yes            yes           yes    yes   \n",
       "\n",
       "Type_Of_Item        Snack items Soft Drinks Starchy Foods  \\\n",
       "Advertising_Of_Item         yes         yes           yes   \n",
       "\n",
       "Type_Of_Item        Toys & Game Products cake item  \n",
       "Advertising_Of_Item                  yes       yes  "
      ]
     },
     "execution_count": 19,
     "metadata": {},
     "output_type": "execute_result"
    }
   ],
   "source": [
    "from scipy.stats import mode\n",
    "\n",
    "#Determing the mode for each\n",
    "Advertising_Of_Item_mode = train.pivot_table(values='Advertising_Of_Item', columns='Type_Of_Item',aggfunc=lambda x:x.mode())\n",
    "Advertising_Of_Item_mode"
   ]
  },
  {
   "cell_type": "code",
   "execution_count": 20,
   "id": "33e2bead",
   "metadata": {},
   "outputs": [
    {
     "name": "stdout",
     "output_type": "stream",
     "text": [
      "Orignal #missing: 65\n",
      "Final #missing: 0\n"
     ]
    }
   ],
   "source": [
    "def impute_size_mode(cols):\n",
    "    Size = cols[0]\n",
    "    Type = cols[1]\n",
    "    if pd.isnull(Size):\n",
    "        return Advertising_Of_Item_mode.loc['Advertising_Of_Item'][Advertising_Of_Item_mode.columns == Type][0]\n",
    "    else:\n",
    "        return Size\n",
    "\n",
    "print ('Orignal #missing: %d'%sum(train['Advertising_Of_Item'].isnull()))\n",
    "train['Advertising_Of_Item'] = train[['Advertising_Of_Item','Type_Of_Item']].apply(impute_size_mode,axis=1)\n",
    "print ('Final #missing: %d'%sum(train['Advertising_Of_Item'].isnull()))"
   ]
  },
  {
   "cell_type": "code",
   "execution_count": 21,
   "id": "42343d58",
   "metadata": {},
   "outputs": [
    {
     "data": {
      "text/html": [
       "<div>\n",
       "<style scoped>\n",
       "    .dataframe tbody tr th:only-of-type {\n",
       "        vertical-align: middle;\n",
       "    }\n",
       "\n",
       "    .dataframe tbody tr th {\n",
       "        vertical-align: top;\n",
       "    }\n",
       "\n",
       "    .dataframe thead th {\n",
       "        text-align: right;\n",
       "    }\n",
       "</style>\n",
       "<table border=\"1\" class=\"dataframe\">\n",
       "  <thead>\n",
       "    <tr style=\"text-align: right;\">\n",
       "      <th>Type_Of_Item</th>\n",
       "      <th>Baby Products</th>\n",
       "      <th>Breakfast</th>\n",
       "      <th>Cleaning &amp; HousehOld</th>\n",
       "      <th>Cosmetics</th>\n",
       "      <th>Daily Staple</th>\n",
       "      <th>Fashion Garments</th>\n",
       "      <th>Fruits and Vegetables</th>\n",
       "      <th>Health and Hygiene</th>\n",
       "      <th>Home &amp; Kitchen</th>\n",
       "      <th>Leather Goods</th>\n",
       "      <th>Others</th>\n",
       "      <th>Snack items</th>\n",
       "      <th>Soft Drinks</th>\n",
       "      <th>Starchy Foods</th>\n",
       "      <th>Toys &amp; Game Products</th>\n",
       "      <th>cake item</th>\n",
       "    </tr>\n",
       "  </thead>\n",
       "  <tbody>\n",
       "    <tr>\n",
       "      <th>IsNewCust</th>\n",
       "      <td>New</td>\n",
       "      <td>New</td>\n",
       "      <td>New</td>\n",
       "      <td>New</td>\n",
       "      <td>New</td>\n",
       "      <td>Old</td>\n",
       "      <td>New</td>\n",
       "      <td>Old</td>\n",
       "      <td>New</td>\n",
       "      <td>New</td>\n",
       "      <td>New</td>\n",
       "      <td>New</td>\n",
       "      <td>New</td>\n",
       "      <td>New</td>\n",
       "      <td>New</td>\n",
       "      <td>New</td>\n",
       "    </tr>\n",
       "  </tbody>\n",
       "</table>\n",
       "</div>"
      ],
      "text/plain": [
       "Type_Of_Item Baby Products Breakfast Cleaning & HousehOld Cosmetics  \\\n",
       "IsNewCust              New       New                  New       New   \n",
       "\n",
       "Type_Of_Item Daily Staple Fashion Garments Fruits and Vegetables  \\\n",
       "IsNewCust             New              Old                   New   \n",
       "\n",
       "Type_Of_Item Health and Hygiene Home & Kitchen Leather Goods Others  \\\n",
       "IsNewCust                   Old            New           New    New   \n",
       "\n",
       "Type_Of_Item Snack items Soft Drinks Starchy Foods Toys & Game Products  \\\n",
       "IsNewCust            New         New           New                  New   \n",
       "\n",
       "Type_Of_Item cake item  \n",
       "IsNewCust          New  "
      ]
     },
     "execution_count": 21,
     "metadata": {},
     "output_type": "execute_result"
    }
   ],
   "source": [
    "from scipy.stats import mode\n",
    "\n",
    "#Determing the mode for each\n",
    "IsNewCust_mode = train.pivot_table(values='IsNewCust', columns='Type_Of_Item',aggfunc=lambda x:x.mode())\n",
    "IsNewCust_mode"
   ]
  },
  {
   "cell_type": "code",
   "execution_count": 22,
   "id": "ca1913f9",
   "metadata": {},
   "outputs": [
    {
     "name": "stdout",
     "output_type": "stream",
     "text": [
      "Orignal #missing: 844\n",
      "Final #missing: 0\n"
     ]
    }
   ],
   "source": [
    "def impute_size_mode(cols):\n",
    "    Size = cols[0]\n",
    "    Type = cols[1]\n",
    "    if pd.isnull(Size):\n",
    "        return IsNewCust_mode.loc['IsNewCust'][IsNewCust_mode.columns == Type][0]\n",
    "    else:\n",
    "        return Size\n",
    "\n",
    "print ('Orignal #missing: %d'%sum(train['IsNewCust'].isnull()))\n",
    "train['IsNewCust'] = train[['IsNewCust','Type_Of_Item']].apply(impute_size_mode,axis=1)\n",
    "print ('Final #missing: %d'%sum(train['IsNewCust'].isnull()))"
   ]
  },
  {
   "cell_type": "code",
   "execution_count": 23,
   "id": "bc134d78",
   "metadata": {},
   "outputs": [
    {
     "data": {
      "text/html": [
       "<div>\n",
       "<style scoped>\n",
       "    .dataframe tbody tr th:only-of-type {\n",
       "        vertical-align: middle;\n",
       "    }\n",
       "\n",
       "    .dataframe tbody tr th {\n",
       "        vertical-align: top;\n",
       "    }\n",
       "\n",
       "    .dataframe thead th {\n",
       "        text-align: right;\n",
       "    }\n",
       "</style>\n",
       "<table border=\"1\" class=\"dataframe\">\n",
       "  <thead>\n",
       "    <tr style=\"text-align: right;\">\n",
       "      <th>Type_Of_Item</th>\n",
       "      <th>Baby Products</th>\n",
       "      <th>Breakfast</th>\n",
       "      <th>Cleaning &amp; HousehOld</th>\n",
       "      <th>Cosmetics</th>\n",
       "      <th>Daily Staple</th>\n",
       "      <th>Fashion Garments</th>\n",
       "      <th>Fruits and Vegetables</th>\n",
       "      <th>Health and Hygiene</th>\n",
       "      <th>Home &amp; Kitchen</th>\n",
       "      <th>Leather Goods</th>\n",
       "      <th>Others</th>\n",
       "      <th>Snack items</th>\n",
       "      <th>Soft Drinks</th>\n",
       "      <th>Starchy Foods</th>\n",
       "      <th>Toys &amp; Game Products</th>\n",
       "      <th>cake item</th>\n",
       "    </tr>\n",
       "  </thead>\n",
       "  <tbody>\n",
       "    <tr>\n",
       "      <th>IsSpecialDay</th>\n",
       "      <td>Diwali</td>\n",
       "      <td>Diwali</td>\n",
       "      <td>Diwali</td>\n",
       "      <td>Diwali</td>\n",
       "      <td>Diwali</td>\n",
       "      <td>Diwali</td>\n",
       "      <td>Diwali</td>\n",
       "      <td>Diwali</td>\n",
       "      <td>Diwali</td>\n",
       "      <td>Diwali</td>\n",
       "      <td>Diwali</td>\n",
       "      <td>Diwali</td>\n",
       "      <td>Diwali</td>\n",
       "      <td>Diwali</td>\n",
       "      <td>Diwali</td>\n",
       "      <td>Diwali</td>\n",
       "    </tr>\n",
       "  </tbody>\n",
       "</table>\n",
       "</div>"
      ],
      "text/plain": [
       "Type_Of_Item Baby Products Breakfast Cleaning & HousehOld Cosmetics  \\\n",
       "IsSpecialDay        Diwali    Diwali               Diwali    Diwali   \n",
       "\n",
       "Type_Of_Item Daily Staple Fashion Garments Fruits and Vegetables  \\\n",
       "IsSpecialDay       Diwali           Diwali                Diwali   \n",
       "\n",
       "Type_Of_Item Health and Hygiene Home & Kitchen Leather Goods  Others  \\\n",
       "IsSpecialDay             Diwali         Diwali        Diwali  Diwali   \n",
       "\n",
       "Type_Of_Item Snack items Soft Drinks Starchy Foods Toys & Game Products  \\\n",
       "IsSpecialDay      Diwali      Diwali        Diwali               Diwali   \n",
       "\n",
       "Type_Of_Item cake item  \n",
       "IsSpecialDay    Diwali  "
      ]
     },
     "execution_count": 23,
     "metadata": {},
     "output_type": "execute_result"
    }
   ],
   "source": [
    "from scipy.stats import mode\n",
    "\n",
    "#Determing the mode for each\n",
    "IsSpecialDay_mode = train.pivot_table(values='IsSpecialDay', columns='Type_Of_Item',aggfunc=lambda x:x.mode())\n",
    "IsSpecialDay_mode"
   ]
  },
  {
   "cell_type": "code",
   "execution_count": 24,
   "id": "389e3bf8",
   "metadata": {},
   "outputs": [
    {
     "name": "stdout",
     "output_type": "stream",
     "text": [
      "Orignal #missing: 35\n",
      "Final #missing: 0\n"
     ]
    }
   ],
   "source": [
    "def impute_size_mode(cols):\n",
    "    Size = cols[0]\n",
    "    Type = cols[1]\n",
    "    if pd.isnull(Size):\n",
    "        return IsSpecialDay_mode.loc['IsSpecialDay'][IsSpecialDay_mode.columns == Type][0]\n",
    "    else:\n",
    "        return Size\n",
    "\n",
    "print ('Orignal #missing: %d'%sum(train['IsSpecialDay'].isnull()))\n",
    "train['IsSpecialDay'] = train[['IsSpecialDay','Type_Of_Item']].apply(impute_size_mode,axis=1)\n",
    "print ('Final #missing: %d'%sum(train['IsSpecialDay'].isnull()))"
   ]
  },
  {
   "cell_type": "code",
   "execution_count": 25,
   "id": "e930942f",
   "metadata": {},
   "outputs": [
    {
     "data": {
      "text/html": [
       "<div>\n",
       "<style scoped>\n",
       "    .dataframe tbody tr th:only-of-type {\n",
       "        vertical-align: middle;\n",
       "    }\n",
       "\n",
       "    .dataframe tbody tr th {\n",
       "        vertical-align: top;\n",
       "    }\n",
       "\n",
       "    .dataframe thead th {\n",
       "        text-align: right;\n",
       "    }\n",
       "</style>\n",
       "<table border=\"1\" class=\"dataframe\">\n",
       "  <thead>\n",
       "    <tr style=\"text-align: right;\">\n",
       "      <th>Type_Of_Item</th>\n",
       "      <th>Baby Products</th>\n",
       "      <th>Breakfast</th>\n",
       "      <th>Cleaning &amp; HousehOld</th>\n",
       "      <th>Cosmetics</th>\n",
       "      <th>Daily Staple</th>\n",
       "      <th>Fashion Garments</th>\n",
       "      <th>Fruits and Vegetables</th>\n",
       "      <th>Health and Hygiene</th>\n",
       "      <th>Home &amp; Kitchen</th>\n",
       "      <th>Leather Goods</th>\n",
       "      <th>Others</th>\n",
       "      <th>Snack items</th>\n",
       "      <th>Soft Drinks</th>\n",
       "      <th>Starchy Foods</th>\n",
       "      <th>Toys &amp; Game Products</th>\n",
       "      <th>cake item</th>\n",
       "    </tr>\n",
       "  </thead>\n",
       "  <tbody>\n",
       "    <tr>\n",
       "      <th>Discount_Of_Item</th>\n",
       "      <td>Yes</td>\n",
       "      <td>Yes</td>\n",
       "      <td>Yes</td>\n",
       "      <td>Yes</td>\n",
       "      <td>Yes</td>\n",
       "      <td>Yes</td>\n",
       "      <td>Yes</td>\n",
       "      <td>Yes</td>\n",
       "      <td>Yes</td>\n",
       "      <td>Yes</td>\n",
       "      <td>Yes</td>\n",
       "      <td>Yes</td>\n",
       "      <td>Yes</td>\n",
       "      <td>Yes</td>\n",
       "      <td>Yes</td>\n",
       "      <td>Yes</td>\n",
       "    </tr>\n",
       "  </tbody>\n",
       "</table>\n",
       "</div>"
      ],
      "text/plain": [
       "Type_Of_Item     Baby Products Breakfast Cleaning & HousehOld Cosmetics  \\\n",
       "Discount_Of_Item           Yes       Yes                  Yes       Yes   \n",
       "\n",
       "Type_Of_Item     Daily Staple Fashion Garments Fruits and Vegetables  \\\n",
       "Discount_Of_Item          Yes              Yes                   Yes   \n",
       "\n",
       "Type_Of_Item     Health and Hygiene Home & Kitchen Leather Goods Others  \\\n",
       "Discount_Of_Item                Yes            Yes           Yes    Yes   \n",
       "\n",
       "Type_Of_Item     Snack items Soft Drinks Starchy Foods Toys & Game Products  \\\n",
       "Discount_Of_Item         Yes         Yes           Yes                  Yes   \n",
       "\n",
       "Type_Of_Item     cake item  \n",
       "Discount_Of_Item       Yes  "
      ]
     },
     "execution_count": 25,
     "metadata": {},
     "output_type": "execute_result"
    }
   ],
   "source": [
    "from scipy.stats import mode\n",
    "\n",
    "#Determing the mode for each\n",
    "Discount_Of_Item_mode = train.pivot_table(values='Discount_Of_Item', columns='Type_Of_Item',aggfunc=lambda x:x.mode())\n",
    "Discount_Of_Item_mode"
   ]
  },
  {
   "cell_type": "code",
   "execution_count": 26,
   "id": "5753eb3a",
   "metadata": {},
   "outputs": [
    {
     "name": "stdout",
     "output_type": "stream",
     "text": [
      "Orignal #missing: 436\n",
      "Final #missing: 0\n"
     ]
    }
   ],
   "source": [
    "def impute_size_mode(cols):\n",
    "    Size = cols[0]\n",
    "    Type = cols[1]\n",
    "    if pd.isnull(Size):\n",
    "        return Discount_Of_Item_mode.loc['Discount_Of_Item'][Discount_Of_Item_mode.columns == Type][0]\n",
    "    else:\n",
    "        return Size\n",
    "\n",
    "print ('Orignal #missing: %d'%sum(train['Discount_Of_Item'].isnull()))\n",
    "train['Discount_Of_Item'] = train[['Discount_Of_Item','Type_Of_Item']].apply(impute_size_mode,axis=1)\n",
    "print ('Final #missing: %d'%sum(train['Discount_Of_Item'].isnull()))"
   ]
  },
  {
   "cell_type": "code",
   "execution_count": 27,
   "id": "4e823e01",
   "metadata": {},
   "outputs": [],
   "source": [
    "train = train.dropna()"
   ]
  },
  {
   "cell_type": "code",
   "execution_count": 28,
   "id": "9cd4b8af",
   "metadata": {},
   "outputs": [
    {
     "data": {
      "text/plain": [
       "Identifier_Of_Item           0\n",
       "Weight_Of_Item               0\n",
       "Content_Of_Fat               0\n",
       "Visibility_Of_Item           0\n",
       "Type_Of_Item                 0\n",
       "MRP_Of_Item                  0\n",
       "Identifier_Of_Outlet         0\n",
       "Outlet_Establishment_Year    0\n",
       "Store_Capacity               0\n",
       "Outlet_Location_Type         0\n",
       "Outlet_Type                  0\n",
       "IsNewCust                    0\n",
       "IsSpecialDay                 0\n",
       "Advertising_Of_Item          0\n",
       "Population_Density           0\n",
       "Product_Packing              0\n",
       "Discount_Of_Item             0\n",
       "Item_Outlet_Sales            0\n",
       "dtype: int64"
      ]
     },
     "execution_count": 28,
     "metadata": {},
     "output_type": "execute_result"
    }
   ],
   "source": [
    "train.isnull().sum()"
   ]
  },
  {
   "cell_type": "code",
   "execution_count": 29,
   "id": "d1cb6c87",
   "metadata": {},
   "outputs": [
    {
     "data": {
      "text/plain": [
       "Identifier_Of_Item              0\n",
       "Weight_Of_Item               1159\n",
       "Content_Of_Fat                  0\n",
       "Visibility_Of_Item              0\n",
       "Type_Of_Item                    0\n",
       "MRP_Of_Item                     0\n",
       "Identifier_Of_Outlet            0\n",
       "Outlet_Establishment_Year       0\n",
       "Store_Capacity               1886\n",
       "Outlet_Location_Type            0\n",
       "Outlet_Type                     0\n",
       "IsNewCust                     597\n",
       "IsSpecialDay                   25\n",
       "Advertising_Of_Item            45\n",
       "Population_Density            497\n",
       "Product_Packing                37\n",
       "Discount_Of_Item              303\n",
       "dtype: int64"
      ]
     },
     "execution_count": 29,
     "metadata": {},
     "output_type": "execute_result"
    }
   ],
   "source": [
    "test.isnull().sum()"
   ]
  },
  {
   "cell_type": "code",
   "execution_count": 30,
   "id": "a03717ea",
   "metadata": {},
   "outputs": [],
   "source": [
    "test['Weight_Of_Item']=test['Weight_Of_Item'].fillna(test.groupby('Identifier_Of_Item')['Weight_Of_Item'].transform('mean'))"
   ]
  },
  {
   "cell_type": "code",
   "execution_count": 31,
   "id": "86697a50",
   "metadata": {},
   "outputs": [
    {
     "data": {
      "text/plain": [
       "21"
      ]
     },
     "execution_count": 31,
     "metadata": {},
     "output_type": "execute_result"
    }
   ],
   "source": [
    "test.Weight_Of_Item.isnull().sum()"
   ]
  },
  {
   "cell_type": "code",
   "execution_count": 32,
   "id": "a28e7e57",
   "metadata": {},
   "outputs": [
    {
     "data": {
      "text/html": [
       "<div>\n",
       "<style scoped>\n",
       "    .dataframe tbody tr th:only-of-type {\n",
       "        vertical-align: middle;\n",
       "    }\n",
       "\n",
       "    .dataframe tbody tr th {\n",
       "        vertical-align: top;\n",
       "    }\n",
       "\n",
       "    .dataframe thead th {\n",
       "        text-align: right;\n",
       "    }\n",
       "</style>\n",
       "<table border=\"1\" class=\"dataframe\">\n",
       "  <thead>\n",
       "    <tr style=\"text-align: right;\">\n",
       "      <th>Type_Of_Item</th>\n",
       "      <th>Baby Products</th>\n",
       "      <th>Breakfast</th>\n",
       "      <th>Cleaning &amp; Household</th>\n",
       "      <th>Cosemetics</th>\n",
       "      <th>Daily Staple</th>\n",
       "      <th>Electronics</th>\n",
       "      <th>Fashion Garments</th>\n",
       "      <th>Fruits and Vegetables</th>\n",
       "      <th>Health and Hygiene</th>\n",
       "      <th>Home &amp; Kitchen</th>\n",
       "      <th>Leather Goods</th>\n",
       "      <th>Others</th>\n",
       "      <th>Snack Items</th>\n",
       "      <th>Soft Drinks</th>\n",
       "      <th>Starchy Foods</th>\n",
       "      <th>Toys &amp; Game products</th>\n",
       "    </tr>\n",
       "  </thead>\n",
       "  <tbody>\n",
       "    <tr>\n",
       "      <th>IsNewCust</th>\n",
       "      <td>New</td>\n",
       "      <td>New</td>\n",
       "      <td>New</td>\n",
       "      <td>New</td>\n",
       "      <td>New</td>\n",
       "      <td>New</td>\n",
       "      <td>New</td>\n",
       "      <td>New</td>\n",
       "      <td>New</td>\n",
       "      <td>New</td>\n",
       "      <td>New</td>\n",
       "      <td>New</td>\n",
       "      <td>New</td>\n",
       "      <td>[New, Old]</td>\n",
       "      <td>New</td>\n",
       "      <td>New</td>\n",
       "    </tr>\n",
       "  </tbody>\n",
       "</table>\n",
       "</div>"
      ],
      "text/plain": [
       "Type_Of_Item Baby Products Breakfast Cleaning & Household Cosemetics  \\\n",
       "IsNewCust              New       New                  New        New   \n",
       "\n",
       "Type_Of_Item Daily Staple Electronics Fashion Garments Fruits and Vegetables  \\\n",
       "IsNewCust             New         New              New                   New   \n",
       "\n",
       "Type_Of_Item Health and Hygiene Home & Kitchen Leather Goods Others  \\\n",
       "IsNewCust                   New            New           New    New   \n",
       "\n",
       "Type_Of_Item Snack Items Soft Drinks Starchy Foods Toys & Game products  \n",
       "IsNewCust            New  [New, Old]           New                  New  "
      ]
     },
     "execution_count": 32,
     "metadata": {},
     "output_type": "execute_result"
    }
   ],
   "source": [
    "from scipy.stats import mode\n",
    "\n",
    "#Determing the mode for each\n",
    "IsNewCust_mode = test.pivot_table(values='IsNewCust', columns='Type_Of_Item',aggfunc=lambda x:x.mode())\n",
    "IsNewCust_mode"
   ]
  },
  {
   "cell_type": "code",
   "execution_count": 33,
   "id": "27b16be4",
   "metadata": {},
   "outputs": [
    {
     "name": "stdout",
     "output_type": "stream",
     "text": [
      "Orignal #missing: 597\n",
      "Final #missing: 0\n"
     ]
    }
   ],
   "source": [
    "def impute_size_mode(cols):\n",
    "    Size = cols[0]\n",
    "    Type = cols[1]\n",
    "    if pd.isnull(Size):\n",
    "        return IsNewCust_mode.loc['IsNewCust'][IsNewCust_mode.columns == Type][0]\n",
    "    else:\n",
    "        return Size\n",
    "\n",
    "print ('Orignal #missing: %d'%sum(test['IsNewCust'].isnull()))\n",
    "test['IsNewCust'] = test[['IsNewCust','Type_Of_Item']].apply(impute_size_mode,axis=1)\n",
    "print ('Final #missing: %d'%sum(test['IsNewCust'].isnull()))"
   ]
  },
  {
   "cell_type": "code",
   "execution_count": 34,
   "id": "96142983",
   "metadata": {},
   "outputs": [
    {
     "data": {
      "text/html": [
       "<div>\n",
       "<style scoped>\n",
       "    .dataframe tbody tr th:only-of-type {\n",
       "        vertical-align: middle;\n",
       "    }\n",
       "\n",
       "    .dataframe tbody tr th {\n",
       "        vertical-align: top;\n",
       "    }\n",
       "\n",
       "    .dataframe thead th {\n",
       "        text-align: right;\n",
       "    }\n",
       "</style>\n",
       "<table border=\"1\" class=\"dataframe\">\n",
       "  <thead>\n",
       "    <tr style=\"text-align: right;\">\n",
       "      <th>Type_Of_Item</th>\n",
       "      <th>Baby Products</th>\n",
       "      <th>Breakfast</th>\n",
       "      <th>Cleaning &amp; Household</th>\n",
       "      <th>Cosemetics</th>\n",
       "      <th>Daily Staple</th>\n",
       "      <th>Electronics</th>\n",
       "      <th>Fashion Garments</th>\n",
       "      <th>Fruits and Vegetables</th>\n",
       "      <th>Health and Hygiene</th>\n",
       "      <th>Home &amp; Kitchen</th>\n",
       "      <th>Leather Goods</th>\n",
       "      <th>Others</th>\n",
       "      <th>Snack Items</th>\n",
       "      <th>Soft Drinks</th>\n",
       "      <th>Starchy Foods</th>\n",
       "      <th>Toys &amp; Game products</th>\n",
       "    </tr>\n",
       "  </thead>\n",
       "  <tbody>\n",
       "    <tr>\n",
       "      <th>IsSpecialDay</th>\n",
       "      <td>Diwali</td>\n",
       "      <td>Diwali</td>\n",
       "      <td>Diwali</td>\n",
       "      <td>Diwali</td>\n",
       "      <td>Diwali</td>\n",
       "      <td>Diwali</td>\n",
       "      <td>Diwali</td>\n",
       "      <td>Diwali</td>\n",
       "      <td>Diwali</td>\n",
       "      <td>Diwali</td>\n",
       "      <td>Diwali</td>\n",
       "      <td>Diwali</td>\n",
       "      <td>Diwali</td>\n",
       "      <td>Diwali</td>\n",
       "      <td>Diwali</td>\n",
       "      <td>Diwali</td>\n",
       "    </tr>\n",
       "  </tbody>\n",
       "</table>\n",
       "</div>"
      ],
      "text/plain": [
       "Type_Of_Item Baby Products Breakfast Cleaning & Household Cosemetics  \\\n",
       "IsSpecialDay        Diwali    Diwali               Diwali     Diwali   \n",
       "\n",
       "Type_Of_Item Daily Staple Electronics Fashion Garments Fruits and Vegetables  \\\n",
       "IsSpecialDay       Diwali      Diwali           Diwali                Diwali   \n",
       "\n",
       "Type_Of_Item Health and Hygiene Home & Kitchen Leather Goods  Others  \\\n",
       "IsSpecialDay             Diwali         Diwali        Diwali  Diwali   \n",
       "\n",
       "Type_Of_Item Snack Items Soft Drinks Starchy Foods Toys & Game products  \n",
       "IsSpecialDay      Diwali      Diwali        Diwali               Diwali  "
      ]
     },
     "execution_count": 34,
     "metadata": {},
     "output_type": "execute_result"
    }
   ],
   "source": [
    "from scipy.stats import mode\n",
    "\n",
    "#Determing the mode for each\n",
    "IsSpecialDay_mode = test.pivot_table(values='IsSpecialDay', columns='Type_Of_Item',aggfunc=lambda x:x.mode())\n",
    "IsSpecialDay_mode"
   ]
  },
  {
   "cell_type": "code",
   "execution_count": 35,
   "id": "5c6a2c58",
   "metadata": {},
   "outputs": [
    {
     "name": "stdout",
     "output_type": "stream",
     "text": [
      "Orignal #missing: 25\n",
      "Final #missing: 0\n"
     ]
    }
   ],
   "source": [
    "def impute_size_mode(cols):\n",
    "    Size = cols[0]\n",
    "    Type = cols[1]\n",
    "    if pd.isnull(Size):\n",
    "        return IsSpecialDay_mode.loc['IsSpecialDay'][IsSpecialDay_mode.columns == Type][0]\n",
    "    else:\n",
    "        return Size\n",
    "\n",
    "print ('Orignal #missing: %d'%sum(test['IsSpecialDay'].isnull()))\n",
    "test['IsSpecialDay'] = test[['IsSpecialDay','Type_Of_Item']].apply(impute_size_mode,axis=1)\n",
    "print ('Final #missing: %d'%sum(test['IsSpecialDay'].isnull()))"
   ]
  },
  {
   "cell_type": "code",
   "execution_count": 36,
   "id": "e1210f06",
   "metadata": {},
   "outputs": [
    {
     "data": {
      "text/html": [
       "<div>\n",
       "<style scoped>\n",
       "    .dataframe tbody tr th:only-of-type {\n",
       "        vertical-align: middle;\n",
       "    }\n",
       "\n",
       "    .dataframe tbody tr th {\n",
       "        vertical-align: top;\n",
       "    }\n",
       "\n",
       "    .dataframe thead th {\n",
       "        text-align: right;\n",
       "    }\n",
       "</style>\n",
       "<table border=\"1\" class=\"dataframe\">\n",
       "  <thead>\n",
       "    <tr style=\"text-align: right;\">\n",
       "      <th>Type_Of_Item</th>\n",
       "      <th>Baby Products</th>\n",
       "      <th>Breakfast</th>\n",
       "      <th>Cleaning &amp; Household</th>\n",
       "      <th>Cosemetics</th>\n",
       "      <th>Daily Staple</th>\n",
       "      <th>Electronics</th>\n",
       "      <th>Fashion Garments</th>\n",
       "      <th>Fruits and Vegetables</th>\n",
       "      <th>Health and Hygiene</th>\n",
       "      <th>Home &amp; Kitchen</th>\n",
       "      <th>Leather Goods</th>\n",
       "      <th>Others</th>\n",
       "      <th>Snack Items</th>\n",
       "      <th>Soft Drinks</th>\n",
       "      <th>Starchy Foods</th>\n",
       "      <th>Toys &amp; Game products</th>\n",
       "    </tr>\n",
       "  </thead>\n",
       "  <tbody>\n",
       "    <tr>\n",
       "      <th>Advertising_Of_Item</th>\n",
       "      <td>yes</td>\n",
       "      <td>yes</td>\n",
       "      <td>yes</td>\n",
       "      <td>yes</td>\n",
       "      <td>yes</td>\n",
       "      <td>yes</td>\n",
       "      <td>yes</td>\n",
       "      <td>yes</td>\n",
       "      <td>yes</td>\n",
       "      <td>yes</td>\n",
       "      <td>yes</td>\n",
       "      <td>yes</td>\n",
       "      <td>yes</td>\n",
       "      <td>yes</td>\n",
       "      <td>yes</td>\n",
       "      <td>yes</td>\n",
       "    </tr>\n",
       "  </tbody>\n",
       "</table>\n",
       "</div>"
      ],
      "text/plain": [
       "Type_Of_Item        Baby Products Breakfast Cleaning & Household Cosemetics  \\\n",
       "Advertising_Of_Item           yes       yes                  yes        yes   \n",
       "\n",
       "Type_Of_Item        Daily Staple Electronics Fashion Garments  \\\n",
       "Advertising_Of_Item          yes         yes              yes   \n",
       "\n",
       "Type_Of_Item        Fruits and Vegetables Health and Hygiene Home & Kitchen  \\\n",
       "Advertising_Of_Item                   yes                yes            yes   \n",
       "\n",
       "Type_Of_Item        Leather Goods Others Snack Items Soft Drinks  \\\n",
       "Advertising_Of_Item           yes    yes         yes         yes   \n",
       "\n",
       "Type_Of_Item        Starchy Foods Toys & Game products  \n",
       "Advertising_Of_Item           yes                  yes  "
      ]
     },
     "execution_count": 36,
     "metadata": {},
     "output_type": "execute_result"
    }
   ],
   "source": [
    "from scipy.stats import mode\n",
    "\n",
    "#Determing the mode for each\n",
    "Advertising_Of_Item_mode = test.pivot_table(values='Advertising_Of_Item', columns='Type_Of_Item',aggfunc=lambda x:x.mode())\n",
    "Advertising_Of_Item_mode"
   ]
  },
  {
   "cell_type": "code",
   "execution_count": 37,
   "id": "208072c4",
   "metadata": {},
   "outputs": [
    {
     "name": "stdout",
     "output_type": "stream",
     "text": [
      "Orignal #missing: 45\n",
      "Final #missing: 0\n"
     ]
    }
   ],
   "source": [
    "def impute_size_mode(cols):\n",
    "    Size = cols[0]\n",
    "    Type = cols[1]\n",
    "    if pd.isnull(Size):\n",
    "        return Advertising_Of_Item_mode.loc['Advertising_Of_Item'][Advertising_Of_Item_mode.columns == Type][0]\n",
    "    else:\n",
    "        return Size\n",
    "\n",
    "print ('Orignal #missing: %d'%sum(test['Advertising_Of_Item'].isnull()))\n",
    "test['Advertising_Of_Item'] = test[['Advertising_Of_Item','Type_Of_Item']].apply(impute_size_mode,axis=1)\n",
    "print ('Final #missing: %d'%sum(test['Advertising_Of_Item'].isnull()))"
   ]
  },
  {
   "cell_type": "code",
   "execution_count": 38,
   "id": "5195099b",
   "metadata": {},
   "outputs": [
    {
     "data": {
      "text/plain": [
       "Identifier_Of_Item              0\n",
       "Weight_Of_Item                 21\n",
       "Content_Of_Fat                  0\n",
       "Visibility_Of_Item              0\n",
       "Type_Of_Item                    0\n",
       "MRP_Of_Item                     0\n",
       "Identifier_Of_Outlet            0\n",
       "Outlet_Establishment_Year       0\n",
       "Store_Capacity               1886\n",
       "Outlet_Location_Type            0\n",
       "Outlet_Type                     0\n",
       "IsNewCust                       0\n",
       "IsSpecialDay                    0\n",
       "Advertising_Of_Item             0\n",
       "Population_Density            497\n",
       "Product_Packing                37\n",
       "Discount_Of_Item              303\n",
       "dtype: int64"
      ]
     },
     "execution_count": 38,
     "metadata": {},
     "output_type": "execute_result"
    }
   ],
   "source": [
    "test.isnull().sum()"
   ]
  },
  {
   "cell_type": "code",
   "execution_count": 39,
   "id": "67dd06f2",
   "metadata": {},
   "outputs": [
    {
     "data": {
      "text/html": [
       "<div>\n",
       "<style scoped>\n",
       "    .dataframe tbody tr th:only-of-type {\n",
       "        vertical-align: middle;\n",
       "    }\n",
       "\n",
       "    .dataframe tbody tr th {\n",
       "        vertical-align: top;\n",
       "    }\n",
       "\n",
       "    .dataframe thead th {\n",
       "        text-align: right;\n",
       "    }\n",
       "</style>\n",
       "<table border=\"1\" class=\"dataframe\">\n",
       "  <thead>\n",
       "    <tr style=\"text-align: right;\">\n",
       "      <th>Type_Of_Item</th>\n",
       "      <th>Baby Products</th>\n",
       "      <th>Breakfast</th>\n",
       "      <th>Cleaning &amp; Household</th>\n",
       "      <th>Cosemetics</th>\n",
       "      <th>Daily Staple</th>\n",
       "      <th>Electronics</th>\n",
       "      <th>Fashion Garments</th>\n",
       "      <th>Fruits and Vegetables</th>\n",
       "      <th>Health and Hygiene</th>\n",
       "      <th>Home &amp; Kitchen</th>\n",
       "      <th>Leather Goods</th>\n",
       "      <th>Others</th>\n",
       "      <th>Snack Items</th>\n",
       "      <th>Soft Drinks</th>\n",
       "      <th>Starchy Foods</th>\n",
       "      <th>Toys &amp; Game products</th>\n",
       "    </tr>\n",
       "  </thead>\n",
       "  <tbody>\n",
       "    <tr>\n",
       "      <th>Population_Density</th>\n",
       "      <td>Level 1</td>\n",
       "      <td>Level 1</td>\n",
       "      <td>Level 1</td>\n",
       "      <td>Level 1</td>\n",
       "      <td>Level 1</td>\n",
       "      <td>Level 1</td>\n",
       "      <td>Level 1</td>\n",
       "      <td>Level 1</td>\n",
       "      <td>Level 1</td>\n",
       "      <td>Level 1</td>\n",
       "      <td>Level 1</td>\n",
       "      <td>Level 1</td>\n",
       "      <td>Level 1</td>\n",
       "      <td>Level 1</td>\n",
       "      <td>Level 1</td>\n",
       "      <td>Level 1</td>\n",
       "    </tr>\n",
       "  </tbody>\n",
       "</table>\n",
       "</div>"
      ],
      "text/plain": [
       "Type_Of_Item       Baby Products Breakfast Cleaning & Household Cosemetics  \\\n",
       "Population_Density       Level 1   Level 1              Level 1    Level 1   \n",
       "\n",
       "Type_Of_Item       Daily Staple Electronics Fashion Garments  \\\n",
       "Population_Density      Level 1     Level 1          Level 1   \n",
       "\n",
       "Type_Of_Item       Fruits and Vegetables Health and Hygiene Home & Kitchen  \\\n",
       "Population_Density               Level 1            Level 1        Level 1   \n",
       "\n",
       "Type_Of_Item       Leather Goods   Others Snack Items Soft Drinks  \\\n",
       "Population_Density       Level 1  Level 1     Level 1     Level 1   \n",
       "\n",
       "Type_Of_Item       Starchy Foods Toys & Game products  \n",
       "Population_Density       Level 1              Level 1  "
      ]
     },
     "execution_count": 39,
     "metadata": {},
     "output_type": "execute_result"
    }
   ],
   "source": [
    "from scipy.stats import mode\n",
    "\n",
    "#Determing the mode for each\n",
    "Population_Density_mode = test.pivot_table(values='Population_Density', columns='Type_Of_Item',aggfunc=lambda x:x.mode())\n",
    "Population_Density_mode"
   ]
  },
  {
   "cell_type": "code",
   "execution_count": 40,
   "id": "6fd2bced",
   "metadata": {},
   "outputs": [
    {
     "name": "stdout",
     "output_type": "stream",
     "text": [
      "Orignal #missing: 497\n",
      "Final #missing: 0\n"
     ]
    }
   ],
   "source": [
    "def impute_size_mode(cols):\n",
    "    Size = cols[0]\n",
    "    Type = cols[1]\n",
    "    if pd.isnull(Size):\n",
    "        return Population_Density_mode.loc['Population_Density'][Population_Density_mode.columns == Type][0]\n",
    "    else:\n",
    "        return Size\n",
    "\n",
    "print ('Orignal #missing: %d'%sum(test['Population_Density'].isnull()))\n",
    "test['Population_Density'] = test[['Population_Density','Type_Of_Item']].apply(impute_size_mode,axis=1)\n",
    "print ('Final #missing: %d'%sum(test['Population_Density'].isnull()))"
   ]
  },
  {
   "cell_type": "code",
   "execution_count": 41,
   "id": "4a7a95a7",
   "metadata": {},
   "outputs": [
    {
     "data": {
      "text/html": [
       "<div>\n",
       "<style scoped>\n",
       "    .dataframe tbody tr th:only-of-type {\n",
       "        vertical-align: middle;\n",
       "    }\n",
       "\n",
       "    .dataframe tbody tr th {\n",
       "        vertical-align: top;\n",
       "    }\n",
       "\n",
       "    .dataframe thead th {\n",
       "        text-align: right;\n",
       "    }\n",
       "</style>\n",
       "<table border=\"1\" class=\"dataframe\">\n",
       "  <thead>\n",
       "    <tr style=\"text-align: right;\">\n",
       "      <th>Type_Of_Item</th>\n",
       "      <th>Baby Products</th>\n",
       "      <th>Breakfast</th>\n",
       "      <th>Cleaning &amp; Household</th>\n",
       "      <th>Cosemetics</th>\n",
       "      <th>Daily Staple</th>\n",
       "      <th>Electronics</th>\n",
       "      <th>Fashion Garments</th>\n",
       "      <th>Fruits and Vegetables</th>\n",
       "      <th>Health and Hygiene</th>\n",
       "      <th>Home &amp; Kitchen</th>\n",
       "      <th>Leather Goods</th>\n",
       "      <th>Others</th>\n",
       "      <th>Snack Items</th>\n",
       "      <th>Soft Drinks</th>\n",
       "      <th>Starchy Foods</th>\n",
       "      <th>Toys &amp; Game products</th>\n",
       "    </tr>\n",
       "  </thead>\n",
       "  <tbody>\n",
       "    <tr>\n",
       "      <th>Product_Packing</th>\n",
       "      <td>good</td>\n",
       "      <td>good</td>\n",
       "      <td>good</td>\n",
       "      <td>good</td>\n",
       "      <td>good</td>\n",
       "      <td>good</td>\n",
       "      <td>good</td>\n",
       "      <td>good</td>\n",
       "      <td>good</td>\n",
       "      <td>good</td>\n",
       "      <td>good</td>\n",
       "      <td>good</td>\n",
       "      <td>good</td>\n",
       "      <td>good</td>\n",
       "      <td>good</td>\n",
       "      <td>good</td>\n",
       "    </tr>\n",
       "  </tbody>\n",
       "</table>\n",
       "</div>"
      ],
      "text/plain": [
       "Type_Of_Item    Baby Products Breakfast Cleaning & Household Cosemetics  \\\n",
       "Product_Packing          good      good                 good       good   \n",
       "\n",
       "Type_Of_Item    Daily Staple Electronics Fashion Garments  \\\n",
       "Product_Packing         good        good             good   \n",
       "\n",
       "Type_Of_Item    Fruits and Vegetables Health and Hygiene Home & Kitchen  \\\n",
       "Product_Packing                  good               good           good   \n",
       "\n",
       "Type_Of_Item    Leather Goods Others Snack Items Soft Drinks Starchy Foods  \\\n",
       "Product_Packing          good   good        good        good          good   \n",
       "\n",
       "Type_Of_Item    Toys & Game products  \n",
       "Product_Packing                 good  "
      ]
     },
     "execution_count": 41,
     "metadata": {},
     "output_type": "execute_result"
    }
   ],
   "source": [
    "from scipy.stats import mode\n",
    "\n",
    "#Determing the mode for each\n",
    "Product_Packing_mode = test.pivot_table(values='Product_Packing', columns='Type_Of_Item',aggfunc=lambda x:x.mode())\n",
    "Product_Packing_mode"
   ]
  },
  {
   "cell_type": "code",
   "execution_count": 42,
   "id": "8dd62573",
   "metadata": {},
   "outputs": [
    {
     "name": "stdout",
     "output_type": "stream",
     "text": [
      "Orignal #missing: 37\n",
      "Final #missing: 0\n"
     ]
    }
   ],
   "source": [
    "def impute_size_mode(cols):\n",
    "    Size = cols[0]\n",
    "    Type = cols[1]\n",
    "    if pd.isnull(Size):\n",
    "        return Product_Packing_mode.loc['Product_Packing'][Product_Packing_mode.columns == Type][0]\n",
    "    else:\n",
    "        return Size\n",
    "\n",
    "print ('Orignal #missing: %d'%sum(test['Product_Packing'].isnull()))\n",
    "test['Product_Packing'] = test[['Product_Packing','Type_Of_Item']].apply(impute_size_mode,axis=1)\n",
    "print ('Final #missing: %d'%sum(test['Product_Packing'].isnull()))"
   ]
  },
  {
   "cell_type": "code",
   "execution_count": 43,
   "id": "fa9b2ba6",
   "metadata": {},
   "outputs": [
    {
     "data": {
      "text/html": [
       "<div>\n",
       "<style scoped>\n",
       "    .dataframe tbody tr th:only-of-type {\n",
       "        vertical-align: middle;\n",
       "    }\n",
       "\n",
       "    .dataframe tbody tr th {\n",
       "        vertical-align: top;\n",
       "    }\n",
       "\n",
       "    .dataframe thead th {\n",
       "        text-align: right;\n",
       "    }\n",
       "</style>\n",
       "<table border=\"1\" class=\"dataframe\">\n",
       "  <thead>\n",
       "    <tr style=\"text-align: right;\">\n",
       "      <th>Type_Of_Item</th>\n",
       "      <th>Baby Products</th>\n",
       "      <th>Breakfast</th>\n",
       "      <th>Cleaning &amp; Household</th>\n",
       "      <th>Cosemetics</th>\n",
       "      <th>Daily Staple</th>\n",
       "      <th>Electronics</th>\n",
       "      <th>Fashion Garments</th>\n",
       "      <th>Fruits and Vegetables</th>\n",
       "      <th>Health and Hygiene</th>\n",
       "      <th>Home &amp; Kitchen</th>\n",
       "      <th>Leather Goods</th>\n",
       "      <th>Others</th>\n",
       "      <th>Snack Items</th>\n",
       "      <th>Soft Drinks</th>\n",
       "      <th>Starchy Foods</th>\n",
       "      <th>Toys &amp; Game products</th>\n",
       "    </tr>\n",
       "  </thead>\n",
       "  <tbody>\n",
       "    <tr>\n",
       "      <th>Discount_Of_Item</th>\n",
       "      <td>No</td>\n",
       "      <td>Yes</td>\n",
       "      <td>No</td>\n",
       "      <td>No</td>\n",
       "      <td>No</td>\n",
       "      <td>No</td>\n",
       "      <td>No</td>\n",
       "      <td>No</td>\n",
       "      <td>No</td>\n",
       "      <td>No</td>\n",
       "      <td>No</td>\n",
       "      <td>No</td>\n",
       "      <td>No</td>\n",
       "      <td>No</td>\n",
       "      <td>Yes</td>\n",
       "      <td>No</td>\n",
       "    </tr>\n",
       "  </tbody>\n",
       "</table>\n",
       "</div>"
      ],
      "text/plain": [
       "Type_Of_Item     Baby Products Breakfast Cleaning & Household Cosemetics  \\\n",
       "Discount_Of_Item            No       Yes                   No         No   \n",
       "\n",
       "Type_Of_Item     Daily Staple Electronics Fashion Garments  \\\n",
       "Discount_Of_Item           No          No               No   \n",
       "\n",
       "Type_Of_Item     Fruits and Vegetables Health and Hygiene Home & Kitchen  \\\n",
       "Discount_Of_Item                    No                 No             No   \n",
       "\n",
       "Type_Of_Item     Leather Goods Others Snack Items Soft Drinks Starchy Foods  \\\n",
       "Discount_Of_Item            No     No          No          No           Yes   \n",
       "\n",
       "Type_Of_Item     Toys & Game products  \n",
       "Discount_Of_Item                   No  "
      ]
     },
     "execution_count": 43,
     "metadata": {},
     "output_type": "execute_result"
    }
   ],
   "source": [
    "from scipy.stats import mode\n",
    "\n",
    "#Determing the mode for each\n",
    "Discount_Of_Item_mode = test.pivot_table(values='Discount_Of_Item', columns='Type_Of_Item',aggfunc=lambda x:x.mode())\n",
    "Discount_Of_Item_mode"
   ]
  },
  {
   "cell_type": "code",
   "execution_count": 44,
   "id": "4c1d83b3",
   "metadata": {},
   "outputs": [
    {
     "name": "stdout",
     "output_type": "stream",
     "text": [
      "Orignal #missing: 303\n",
      "Final #missing: 0\n"
     ]
    }
   ],
   "source": [
    "def impute_size_mode(cols):\n",
    "    Size = cols[0]\n",
    "    Type = cols[1]\n",
    "    if pd.isnull(Size):\n",
    "        return Discount_Of_Item_mode.loc['Discount_Of_Item'][Discount_Of_Item_mode.columns == Type][0]\n",
    "    else:\n",
    "        return Size\n",
    "\n",
    "print ('Orignal #missing: %d'%sum(test['Discount_Of_Item'].isnull()))\n",
    "test['Discount_Of_Item'] = test[['Discount_Of_Item','Type_Of_Item']].apply(impute_size_mode,axis=1)\n",
    "print ('Final #missing: %d'%sum(test['Discount_Of_Item'].isnull()))"
   ]
  },
  {
   "cell_type": "code",
   "execution_count": 45,
   "id": "125f6a50",
   "metadata": {},
   "outputs": [
    {
     "data": {
      "text/html": [
       "<div>\n",
       "<style scoped>\n",
       "    .dataframe tbody tr th:only-of-type {\n",
       "        vertical-align: middle;\n",
       "    }\n",
       "\n",
       "    .dataframe tbody tr th {\n",
       "        vertical-align: top;\n",
       "    }\n",
       "\n",
       "    .dataframe thead th {\n",
       "        text-align: right;\n",
       "    }\n",
       "</style>\n",
       "<table border=\"1\" class=\"dataframe\">\n",
       "  <thead>\n",
       "    <tr style=\"text-align: right;\">\n",
       "      <th>Type_Of_Item</th>\n",
       "      <th>Baby Products</th>\n",
       "      <th>Breakfast</th>\n",
       "      <th>Cleaning &amp; Household</th>\n",
       "      <th>Cosemetics</th>\n",
       "      <th>Daily Staple</th>\n",
       "      <th>Electronics</th>\n",
       "      <th>Fashion Garments</th>\n",
       "      <th>Fruits and Vegetables</th>\n",
       "      <th>Health and Hygiene</th>\n",
       "      <th>Home &amp; Kitchen</th>\n",
       "      <th>Leather Goods</th>\n",
       "      <th>Others</th>\n",
       "      <th>Snack Items</th>\n",
       "      <th>Soft Drinks</th>\n",
       "      <th>Starchy Foods</th>\n",
       "      <th>Toys &amp; Game products</th>\n",
       "    </tr>\n",
       "  </thead>\n",
       "  <tbody>\n",
       "    <tr>\n",
       "      <th>Store_Capacity</th>\n",
       "      <td>Medium</td>\n",
       "      <td>Medium</td>\n",
       "      <td>Medium</td>\n",
       "      <td>Medium</td>\n",
       "      <td>Medium</td>\n",
       "      <td>Small</td>\n",
       "      <td>Medium</td>\n",
       "      <td>Medium</td>\n",
       "      <td>Medium</td>\n",
       "      <td>Medium</td>\n",
       "      <td>Medium</td>\n",
       "      <td>Medium</td>\n",
       "      <td>Medium</td>\n",
       "      <td>Medium</td>\n",
       "      <td>Medium</td>\n",
       "      <td>Small</td>\n",
       "    </tr>\n",
       "  </tbody>\n",
       "</table>\n",
       "</div>"
      ],
      "text/plain": [
       "Type_Of_Item   Baby Products Breakfast Cleaning & Household Cosemetics  \\\n",
       "Store_Capacity        Medium    Medium               Medium     Medium   \n",
       "\n",
       "Type_Of_Item   Daily Staple Electronics Fashion Garments  \\\n",
       "Store_Capacity       Medium       Small           Medium   \n",
       "\n",
       "Type_Of_Item   Fruits and Vegetables Health and Hygiene Home & Kitchen  \\\n",
       "Store_Capacity                Medium             Medium         Medium   \n",
       "\n",
       "Type_Of_Item   Leather Goods  Others Snack Items Soft Drinks Starchy Foods  \\\n",
       "Store_Capacity        Medium  Medium      Medium      Medium        Medium   \n",
       "\n",
       "Type_Of_Item   Toys & Game products  \n",
       "Store_Capacity                Small  "
      ]
     },
     "execution_count": 45,
     "metadata": {},
     "output_type": "execute_result"
    }
   ],
   "source": [
    "from scipy.stats import mode\n",
    "\n",
    "#Determing the mode for each\n",
    "Store_Capacity_mode = test.pivot_table(values='Store_Capacity', columns='Type_Of_Item',aggfunc=lambda x:x.mode())\n",
    "Store_Capacity_mode"
   ]
  },
  {
   "cell_type": "code",
   "execution_count": 46,
   "id": "fd29364d",
   "metadata": {},
   "outputs": [
    {
     "name": "stdout",
     "output_type": "stream",
     "text": [
      "Orignal #missing: 1886\n",
      "Final #missing: 0\n"
     ]
    }
   ],
   "source": [
    "def impute_size_mode(cols):\n",
    "    Size = cols[0]\n",
    "    Type = cols[1]\n",
    "    if pd.isnull(Size):\n",
    "        return Store_Capacity_mode.loc['Store_Capacity'][Store_Capacity_mode.columns == Type][0]\n",
    "    else:\n",
    "        return Size\n",
    "\n",
    "print ('Orignal #missing: %d'%sum(test['Store_Capacity'].isnull()))\n",
    "test['Store_Capacity'] = test[['Store_Capacity','Type_Of_Item']].apply(impute_size_mode,axis=1)\n",
    "print ('Final #missing: %d'%sum(test['Store_Capacity'].isnull()))"
   ]
  },
  {
   "cell_type": "code",
   "execution_count": 47,
   "id": "9aef7a5d",
   "metadata": {},
   "outputs": [],
   "source": [
    "test = test.dropna()"
   ]
  },
  {
   "cell_type": "code",
   "execution_count": 48,
   "id": "a51c2800",
   "metadata": {},
   "outputs": [
    {
     "data": {
      "text/plain": [
       "Identifier_Of_Item           0\n",
       "Weight_Of_Item               0\n",
       "Content_Of_Fat               0\n",
       "Visibility_Of_Item           0\n",
       "Type_Of_Item                 0\n",
       "MRP_Of_Item                  0\n",
       "Identifier_Of_Outlet         0\n",
       "Outlet_Establishment_Year    0\n",
       "Store_Capacity               0\n",
       "Outlet_Location_Type         0\n",
       "Outlet_Type                  0\n",
       "IsNewCust                    0\n",
       "IsSpecialDay                 0\n",
       "Advertising_Of_Item          0\n",
       "Population_Density           0\n",
       "Product_Packing              0\n",
       "Discount_Of_Item             0\n",
       "dtype: int64"
      ]
     },
     "execution_count": 48,
     "metadata": {},
     "output_type": "execute_result"
    }
   ],
   "source": [
    "test.isnull().sum()"
   ]
  },
  {
   "cell_type": "markdown",
   "id": "0b6ece46",
   "metadata": {},
   "source": [
    "## STEP4: Feature Engineering"
   ]
  },
  {
   "cell_type": "code",
   "execution_count": 49,
   "id": "13020323",
   "metadata": {},
   "outputs": [
    {
     "name": "stdout",
     "output_type": "stream",
     "text": [
      "(9519, 19) (6660, 18) (16179, 19)\n"
     ]
    }
   ],
   "source": [
    "# Join Train and Test Dataset\n",
    "train['source']='train'\n",
    "test['source']='test'\n",
    "\n",
    "data = pd.concat([train,test], ignore_index = True)\n",
    "print(train.shape, test.shape, data.shape)"
   ]
  },
  {
   "cell_type": "code",
   "execution_count": 50,
   "id": "bc5dfd7b",
   "metadata": {},
   "outputs": [
    {
     "name": "stdout",
     "output_type": "stream",
     "text": [
      "<class 'pandas.core.frame.DataFrame'>\n",
      "RangeIndex: 16179 entries, 0 to 16178\n",
      "Data columns (total 19 columns):\n",
      " #   Column                     Non-Null Count  Dtype  \n",
      "---  ------                     --------------  -----  \n",
      " 0   Identifier_Of_Item         16179 non-null  object \n",
      " 1   Weight_Of_Item             16179 non-null  float64\n",
      " 2   Content_Of_Fat             16179 non-null  object \n",
      " 3   Visibility_Of_Item         16179 non-null  float64\n",
      " 4   Type_Of_Item               16179 non-null  object \n",
      " 5   MRP_Of_Item                16179 non-null  float64\n",
      " 6   Identifier_Of_Outlet       16179 non-null  object \n",
      " 7   Outlet_Establishment_Year  16179 non-null  int64  \n",
      " 8   Store_Capacity             16179 non-null  object \n",
      " 9   Outlet_Location_Type       16179 non-null  object \n",
      " 10  Outlet_Type                16179 non-null  object \n",
      " 11  IsNewCust                  16179 non-null  object \n",
      " 12  IsSpecialDay               16179 non-null  object \n",
      " 13  Advertising_Of_Item        16179 non-null  object \n",
      " 14  Population_Density         16179 non-null  object \n",
      " 15  Product_Packing            16179 non-null  object \n",
      " 16  Discount_Of_Item           16179 non-null  object \n",
      " 17  Item_Outlet_Sales          9519 non-null   float64\n",
      " 18  source                     16179 non-null  object \n",
      "dtypes: float64(4), int64(1), object(14)\n",
      "memory usage: 2.3+ MB\n"
     ]
    }
   ],
   "source": [
    "data.info()"
   ]
  },
  {
   "cell_type": "code",
   "execution_count": 51,
   "id": "3f4f91d3",
   "metadata": {},
   "outputs": [
    {
     "data": {
      "text/html": [
       "<div>\n",
       "<style scoped>\n",
       "    .dataframe tbody tr th:only-of-type {\n",
       "        vertical-align: middle;\n",
       "    }\n",
       "\n",
       "    .dataframe tbody tr th {\n",
       "        vertical-align: top;\n",
       "    }\n",
       "\n",
       "    .dataframe thead th {\n",
       "        text-align: right;\n",
       "    }\n",
       "</style>\n",
       "<table border=\"1\" class=\"dataframe\">\n",
       "  <thead>\n",
       "    <tr style=\"text-align: right;\">\n",
       "      <th>Type_Of_Item</th>\n",
       "      <th>Baby Products</th>\n",
       "      <th>Breakfast</th>\n",
       "      <th>Cleaning &amp; HousehOld</th>\n",
       "      <th>Cosmetics</th>\n",
       "      <th>Daily Staple</th>\n",
       "      <th>Fashion Garments</th>\n",
       "      <th>Fruits and Vegetables</th>\n",
       "      <th>Health and Hygiene</th>\n",
       "      <th>Home &amp; Kitchen</th>\n",
       "      <th>Leather Goods</th>\n",
       "      <th>Others</th>\n",
       "      <th>Snack items</th>\n",
       "      <th>Soft Drinks</th>\n",
       "      <th>Starchy Foods</th>\n",
       "      <th>Toys &amp; Game Products</th>\n",
       "      <th>cake item</th>\n",
       "    </tr>\n",
       "  </thead>\n",
       "  <tbody>\n",
       "    <tr>\n",
       "      <th>Item_Outlet_Sales</th>\n",
       "      <td>2239.429863</td>\n",
       "      <td>2162.507574</td>\n",
       "      <td>2276.08326</td>\n",
       "      <td>1950.873151</td>\n",
       "      <td>2275.565895</td>\n",
       "      <td>2202.866845</td>\n",
       "      <td>2270.069587</td>\n",
       "      <td>2002.32172</td>\n",
       "      <td>2205.964902</td>\n",
       "      <td>2446.458656</td>\n",
       "      <td>1925.59437</td>\n",
       "      <td>2133.538423</td>\n",
       "      <td>1986.160906</td>\n",
       "      <td>2392.881115</td>\n",
       "      <td>2081.525626</td>\n",
       "      <td>2193.259656</td>\n",
       "    </tr>\n",
       "  </tbody>\n",
       "</table>\n",
       "</div>"
      ],
      "text/plain": [
       "Type_Of_Item       Baby Products    Breakfast  Cleaning & HousehOld  \\\n",
       "Item_Outlet_Sales    2239.429863  2162.507574            2276.08326   \n",
       "\n",
       "Type_Of_Item         Cosmetics  Daily Staple  Fashion Garments  \\\n",
       "Item_Outlet_Sales  1950.873151   2275.565895       2202.866845   \n",
       "\n",
       "Type_Of_Item       Fruits and Vegetables  Health and Hygiene  Home & Kitchen  \\\n",
       "Item_Outlet_Sales            2270.069587          2002.32172     2205.964902   \n",
       "\n",
       "Type_Of_Item       Leather Goods      Others  Snack items  Soft Drinks  \\\n",
       "Item_Outlet_Sales    2446.458656  1925.59437  2133.538423  1986.160906   \n",
       "\n",
       "Type_Of_Item       Starchy Foods  Toys & Game Products    cake item  \n",
       "Item_Outlet_Sales    2392.881115           2081.525626  2193.259656  "
      ]
     },
     "execution_count": 51,
     "metadata": {},
     "output_type": "execute_result"
    }
   ],
   "source": [
    "data.pivot_table(values='Item_Outlet_Sales', columns='Type_Of_Item')"
   ]
  },
  {
   "cell_type": "code",
   "execution_count": 52,
   "id": "688506d9",
   "metadata": {},
   "outputs": [],
   "source": [
    "Visibility_Of_Item_avg = data.pivot_table(values='Visibility_Of_Item',index='Identifier_Of_Item')"
   ]
  },
  {
   "cell_type": "code",
   "execution_count": 53,
   "id": "54bbdb63",
   "metadata": {},
   "outputs": [
    {
     "name": "stdout",
     "output_type": "stream",
     "text": [
      "Original #zeros: 416\n",
      "Final #zeros: 0\n"
     ]
    }
   ],
   "source": [
    "def impute_visibility_mean(cols):\n",
    "    visibility = cols[0]\n",
    "    item = cols[1]\n",
    "    if visibility == 0:\n",
    "        return Visibility_Of_Item_avg['Visibility_Of_Item'][Visibility_Of_Item_avg.index == item]\n",
    "    else:\n",
    "        return visibility\n",
    "\n",
    "print ('Original #zeros: %d'%sum(data['Visibility_Of_Item'] == 0))\n",
    "data['Visibility_Of_Item'] = data[['Visibility_Of_Item','Identifier_Of_Item']].apply(impute_visibility_mean,axis=1).astype(float)\n",
    "print ('Final #zeros: %d'%sum(data['Visibility_Of_Item'] == 0))"
   ]
  },
  {
   "cell_type": "code",
   "execution_count": 54,
   "id": "627d4b90",
   "metadata": {},
   "outputs": [
    {
     "data": {
      "text/plain": [
       "Food              11339\n",
       "Non-Consumable     3093\n",
       "Drinks             1505\n",
       "Name: Type_Of_Item_Combined, dtype: int64"
      ]
     },
     "execution_count": 54,
     "metadata": {},
     "output_type": "execute_result"
    }
   ],
   "source": [
    "data['Type_Of_Item_Combined'] = data['Identifier_Of_Item'].apply(lambda x: x[0:2])\n",
    "\n",
    "data['Type_Of_Item_Combined'] = data['Type_Of_Item_Combined'].map({'FD':'Food',\n",
    "                                                             'NC':'Non-Consumable',\n",
    "                                                             'DR':'Drinks'})\n",
    "data['Type_Of_Item_Combined'].value_counts()"
   ]
  },
  {
   "cell_type": "code",
   "execution_count": 55,
   "id": "1822861c",
   "metadata": {},
   "outputs": [
    {
     "name": "stdout",
     "output_type": "stream",
     "text": [
      "Original Categories:\n",
      "Low Fat    9670\n",
      "Regular    5489\n",
      "LF          597\n",
      "reg         222\n",
      "low fat     201\n",
      "Name: Content_Of_Fat, dtype: int64\n",
      "\n",
      "Modified Categories:\n",
      "Low Fat    10468\n",
      "Regular     5711\n",
      "Name: Content_Of_Fat, dtype: int64\n"
     ]
    }
   ],
   "source": [
    "print('Original Categories:')\n",
    "print(data['Content_Of_Fat'].value_counts())\n",
    "\n",
    "print('\\nModified Categories:')\n",
    "data['Content_Of_Fat'] = data['Content_Of_Fat'].replace({'LF':'Low Fat',\n",
    "                                                             'reg':'Regular',\n",
    "                                                             'low fat':'Low Fat'})\n",
    "\n",
    "print(data['Content_Of_Fat'].value_counts())"
   ]
  },
  {
   "cell_type": "code",
   "execution_count": 56,
   "id": "cbe2eaa4",
   "metadata": {},
   "outputs": [
    {
     "data": {
      "text/plain": [
       "Low Fat       7375\n",
       "Regular       5711\n",
       "Non-Edible    3093\n",
       "Name: Content_Of_Fat, dtype: int64"
      ]
     },
     "execution_count": 56,
     "metadata": {},
     "output_type": "execute_result"
    }
   ],
   "source": [
    "data.loc[data['Type_Of_Item_Combined']==\"Non-Consumable\",'Content_Of_Fat'] = \"Non-Edible\"\n",
    "data['Content_Of_Fat'].value_counts()"
   ]
  },
  {
   "cell_type": "markdown",
   "id": "afec6ce5",
   "metadata": {},
   "source": [
    "# Step5: Feature Transformation"
   ]
  },
  {
   "cell_type": "code",
   "execution_count": 57,
   "id": "ae288161",
   "metadata": {},
   "outputs": [
    {
     "name": "stdout",
     "output_type": "stream",
     "text": [
      "<class 'pandas.core.frame.DataFrame'>\n",
      "RangeIndex: 16179 entries, 0 to 16178\n",
      "Data columns (total 20 columns):\n",
      " #   Column                     Non-Null Count  Dtype  \n",
      "---  ------                     --------------  -----  \n",
      " 0   Identifier_Of_Item         16179 non-null  object \n",
      " 1   Weight_Of_Item             16179 non-null  float64\n",
      " 2   Content_Of_Fat             16179 non-null  object \n",
      " 3   Visibility_Of_Item         16179 non-null  float64\n",
      " 4   Type_Of_Item               16179 non-null  object \n",
      " 5   MRP_Of_Item                16179 non-null  float64\n",
      " 6   Identifier_Of_Outlet       16179 non-null  object \n",
      " 7   Outlet_Establishment_Year  16179 non-null  int64  \n",
      " 8   Store_Capacity             16179 non-null  object \n",
      " 9   Outlet_Location_Type       16179 non-null  object \n",
      " 10  Outlet_Type                16179 non-null  object \n",
      " 11  IsNewCust                  16179 non-null  object \n",
      " 12  IsSpecialDay               16179 non-null  object \n",
      " 13  Advertising_Of_Item        16179 non-null  object \n",
      " 14  Population_Density         16179 non-null  object \n",
      " 15  Product_Packing            16179 non-null  object \n",
      " 16  Discount_Of_Item           16179 non-null  object \n",
      " 17  Item_Outlet_Sales          9519 non-null   float64\n",
      " 18  source                     16179 non-null  object \n",
      " 19  Type_Of_Item_Combined      15937 non-null  object \n",
      "dtypes: float64(4), int64(1), object(15)\n",
      "memory usage: 2.5+ MB\n"
     ]
    }
   ],
   "source": [
    "data.info()"
   ]
  },
  {
   "cell_type": "code",
   "execution_count": 58,
   "id": "b52f602c",
   "metadata": {},
   "outputs": [],
   "source": [
    "def cal_outlet_year(df):\n",
    "    data['Outlet_Years'] = 2019 - data['Outlet_Establishment_Year']\n",
    "    data['Outlet_Years'].describe()"
   ]
  },
  {
   "cell_type": "code",
   "execution_count": 59,
   "id": "18e06cc1",
   "metadata": {},
   "outputs": [],
   "source": [
    "cal_outlet_year(data)"
   ]
  },
  {
   "cell_type": "code",
   "execution_count": 60,
   "id": "6e6b9b34",
   "metadata": {},
   "outputs": [],
   "source": [
    "data['IsSpecialDay'] = data['IsSpecialDay'].astype('category').cat.codes"
   ]
  },
  {
   "cell_type": "code",
   "execution_count": 61,
   "id": "be8c8006",
   "metadata": {},
   "outputs": [],
   "source": [
    "data['Advertising_Of_Item'] = data['Advertising_Of_Item'].astype('category').cat.codes"
   ]
  },
  {
   "cell_type": "code",
   "execution_count": 62,
   "id": "2789d04e",
   "metadata": {},
   "outputs": [],
   "source": [
    "data['Population_Density'] = data['Population_Density'].astype('category').cat.codes"
   ]
  },
  {
   "cell_type": "code",
   "execution_count": 63,
   "id": "c6bebb57",
   "metadata": {},
   "outputs": [],
   "source": [
    "data['Product_Packing'] = data['Product_Packing'].astype('category').cat.codes"
   ]
  },
  {
   "cell_type": "code",
   "execution_count": 64,
   "id": "60101a3c",
   "metadata": {},
   "outputs": [],
   "source": [
    "data['Discount_Of_Item'] = data['Discount_Of_Item'].astype('category').cat.codes"
   ]
  },
  {
   "cell_type": "code",
   "execution_count": 65,
   "id": "8144d6b4",
   "metadata": {},
   "outputs": [],
   "source": [
    "data['Identifier_Of_Item'] = data['Identifier_Of_Item'].astype('category').cat.codes"
   ]
  },
  {
   "cell_type": "code",
   "execution_count": 66,
   "id": "2e9c717b",
   "metadata": {},
   "outputs": [],
   "source": [
    "data['Content_Of_Fat'] = data['Content_Of_Fat'].astype('category').cat.codes"
   ]
  },
  {
   "cell_type": "code",
   "execution_count": 67,
   "id": "e53205b7",
   "metadata": {},
   "outputs": [],
   "source": [
    "data['Type_Of_Item'] = data['Type_Of_Item'].astype('category').cat.codes"
   ]
  },
  {
   "cell_type": "code",
   "execution_count": 68,
   "id": "59871d2f",
   "metadata": {},
   "outputs": [
    {
     "name": "stdout",
     "output_type": "stream",
     "text": [
      "<class 'pandas.core.frame.DataFrame'>\n",
      "RangeIndex: 16179 entries, 0 to 16178\n",
      "Data columns (total 21 columns):\n",
      " #   Column                     Non-Null Count  Dtype  \n",
      "---  ------                     --------------  -----  \n",
      " 0   Identifier_Of_Item         16179 non-null  int16  \n",
      " 1   Weight_Of_Item             16179 non-null  float64\n",
      " 2   Content_Of_Fat             16179 non-null  int8   \n",
      " 3   Visibility_Of_Item         16179 non-null  float64\n",
      " 4   Type_Of_Item               16179 non-null  int8   \n",
      " 5   MRP_Of_Item                16179 non-null  float64\n",
      " 6   Identifier_Of_Outlet       16179 non-null  object \n",
      " 7   Outlet_Establishment_Year  16179 non-null  int64  \n",
      " 8   Store_Capacity             16179 non-null  object \n",
      " 9   Outlet_Location_Type       16179 non-null  object \n",
      " 10  Outlet_Type                16179 non-null  object \n",
      " 11  IsNewCust                  16179 non-null  object \n",
      " 12  IsSpecialDay               16179 non-null  int8   \n",
      " 13  Advertising_Of_Item        16179 non-null  int8   \n",
      " 14  Population_Density         16179 non-null  int8   \n",
      " 15  Product_Packing            16179 non-null  int8   \n",
      " 16  Discount_Of_Item           16179 non-null  int8   \n",
      " 17  Item_Outlet_Sales          9519 non-null   float64\n",
      " 18  source                     16179 non-null  object \n",
      " 19  Type_Of_Item_Combined      15937 non-null  object \n",
      " 20  Outlet_Years               16179 non-null  int64  \n",
      "dtypes: float64(4), int16(1), int64(2), int8(7), object(7)\n",
      "memory usage: 1.7+ MB\n"
     ]
    }
   ],
   "source": [
    "data.info()"
   ]
  },
  {
   "cell_type": "code",
   "execution_count": 69,
   "id": "edd2902a",
   "metadata": {},
   "outputs": [],
   "source": [
    "data['Store_Capacity'] = data['Store_Capacity'].astype('category').cat.codes"
   ]
  },
  {
   "cell_type": "code",
   "execution_count": 70,
   "id": "8828379f",
   "metadata": {},
   "outputs": [],
   "source": [
    "data['Outlet_Location_Type'] = data['Outlet_Location_Type'].astype('category').cat.codes"
   ]
  },
  {
   "cell_type": "code",
   "execution_count": 71,
   "id": "4f8d517f",
   "metadata": {},
   "outputs": [],
   "source": [
    "data['Outlet_Type'] = data['Outlet_Type'].astype('category').cat.codes"
   ]
  },
  {
   "cell_type": "code",
   "execution_count": 72,
   "id": "4aee7656",
   "metadata": {},
   "outputs": [
    {
     "name": "stdout",
     "output_type": "stream",
     "text": [
      "<class 'pandas.core.frame.DataFrame'>\n",
      "RangeIndex: 16179 entries, 0 to 16178\n",
      "Data columns (total 21 columns):\n",
      " #   Column                     Non-Null Count  Dtype  \n",
      "---  ------                     --------------  -----  \n",
      " 0   Identifier_Of_Item         16179 non-null  int16  \n",
      " 1   Weight_Of_Item             16179 non-null  float64\n",
      " 2   Content_Of_Fat             16179 non-null  int8   \n",
      " 3   Visibility_Of_Item         16179 non-null  float64\n",
      " 4   Type_Of_Item               16179 non-null  int8   \n",
      " 5   MRP_Of_Item                16179 non-null  float64\n",
      " 6   Identifier_Of_Outlet       16179 non-null  object \n",
      " 7   Outlet_Establishment_Year  16179 non-null  int64  \n",
      " 8   Store_Capacity             16179 non-null  int8   \n",
      " 9   Outlet_Location_Type       16179 non-null  int8   \n",
      " 10  Outlet_Type                16179 non-null  int8   \n",
      " 11  IsNewCust                  16179 non-null  object \n",
      " 12  IsSpecialDay               16179 non-null  int8   \n",
      " 13  Advertising_Of_Item        16179 non-null  int8   \n",
      " 14  Population_Density         16179 non-null  int8   \n",
      " 15  Product_Packing            16179 non-null  int8   \n",
      " 16  Discount_Of_Item           16179 non-null  int8   \n",
      " 17  Item_Outlet_Sales          9519 non-null   float64\n",
      " 18  source                     16179 non-null  object \n",
      " 19  Type_Of_Item_Combined      15937 non-null  object \n",
      " 20  Outlet_Years               16179 non-null  int64  \n",
      "dtypes: float64(4), int16(1), int64(2), int8(10), object(4)\n",
      "memory usage: 1.4+ MB\n"
     ]
    }
   ],
   "source": [
    "data.info()"
   ]
  },
  {
   "cell_type": "code",
   "execution_count": 73,
   "id": "3a507d67",
   "metadata": {},
   "outputs": [],
   "source": [
    "data.Item_Outlet_Sales = data.Item_Outlet_Sales.fillna(data.Item_Outlet_Sales.mean())"
   ]
  },
  {
   "cell_type": "code",
   "execution_count": 74,
   "id": "ba0fde15",
   "metadata": {},
   "outputs": [],
   "source": [
    "data['Identifier_Of_Outlet'] = data['Identifier_Of_Outlet'].astype('category').cat.codes"
   ]
  },
  {
   "cell_type": "code",
   "execution_count": 75,
   "id": "fe09b5dd",
   "metadata": {},
   "outputs": [],
   "source": [
    "data.drop(['Type_Of_Item','Outlet_Establishment_Year'],axis=1,inplace=True)"
   ]
  },
  {
   "cell_type": "code",
   "execution_count": 76,
   "id": "a413701f",
   "metadata": {},
   "outputs": [],
   "source": [
    "data['Type_Of_Item_Combined'] = data['Type_Of_Item_Combined'].astype('category').cat.codes"
   ]
  },
  {
   "cell_type": "code",
   "execution_count": 77,
   "id": "0e003179",
   "metadata": {},
   "outputs": [
    {
     "name": "stdout",
     "output_type": "stream",
     "text": [
      "<class 'pandas.core.frame.DataFrame'>\n",
      "RangeIndex: 16179 entries, 0 to 16178\n",
      "Data columns (total 19 columns):\n",
      " #   Column                 Non-Null Count  Dtype  \n",
      "---  ------                 --------------  -----  \n",
      " 0   Identifier_Of_Item     16179 non-null  int16  \n",
      " 1   Weight_Of_Item         16179 non-null  float64\n",
      " 2   Content_Of_Fat         16179 non-null  int8   \n",
      " 3   Visibility_Of_Item     16179 non-null  float64\n",
      " 4   MRP_Of_Item            16179 non-null  float64\n",
      " 5   Identifier_Of_Outlet   16179 non-null  int8   \n",
      " 6   Store_Capacity         16179 non-null  int8   \n",
      " 7   Outlet_Location_Type   16179 non-null  int8   \n",
      " 8   Outlet_Type            16179 non-null  int8   \n",
      " 9   IsNewCust              16179 non-null  object \n",
      " 10  IsSpecialDay           16179 non-null  int8   \n",
      " 11  Advertising_Of_Item    16179 non-null  int8   \n",
      " 12  Population_Density     16179 non-null  int8   \n",
      " 13  Product_Packing        16179 non-null  int8   \n",
      " 14  Discount_Of_Item       16179 non-null  int8   \n",
      " 15  Item_Outlet_Sales      16179 non-null  float64\n",
      " 16  source                 16179 non-null  object \n",
      " 17  Type_Of_Item_Combined  16179 non-null  int8   \n",
      " 18  Outlet_Years           16179 non-null  int64  \n",
      "dtypes: float64(4), int16(1), int64(1), int8(11), object(2)\n",
      "memory usage: 1.1+ MB\n"
     ]
    }
   ],
   "source": [
    "data.info()"
   ]
  },
  {
   "cell_type": "code",
   "execution_count": 78,
   "id": "fd51de17",
   "metadata": {},
   "outputs": [],
   "source": [
    "data.drop(['source'],axis=1,inplace=True)"
   ]
  },
  {
   "cell_type": "code",
   "execution_count": 79,
   "id": "7ea42f99",
   "metadata": {},
   "outputs": [],
   "source": [
    "data.drop(['IsNewCust'],axis=1,inplace=True)"
   ]
  },
  {
   "cell_type": "code",
   "execution_count": 80,
   "id": "710a8a3d",
   "metadata": {},
   "outputs": [],
   "source": [
    "X = data.drop('Item_Outlet_Sales',axis=1)\n",
    "y = data.Item_Outlet_Sales.values"
   ]
  },
  {
   "cell_type": "markdown",
   "id": "d00122f1",
   "metadata": {},
   "source": [
    "## Implementation of Bayesian optimization"
   ]
  },
  {
   "cell_type": "code",
   "execution_count": 81,
   "id": "f9c7a202",
   "metadata": {},
   "outputs": [],
   "source": [
    "from sklearn.model_selection import train_test_split"
   ]
  },
  {
   "cell_type": "code",
   "execution_count": 82,
   "id": "194842b4",
   "metadata": {},
   "outputs": [],
   "source": [
    "X_train,X_test,y_train,y_test = train_test_split(X,y,test_size = 0.25,random_state = 43)"
   ]
  },
  {
   "cell_type": "code",
   "execution_count": 83,
   "id": "64fdae3d",
   "metadata": {},
   "outputs": [],
   "source": [
    "import xgboost as xgb\n",
    "from sklearn.metrics import mean_squared_error"
   ]
  },
  {
   "cell_type": "code",
   "execution_count": 84,
   "id": "924f4db4",
   "metadata": {},
   "outputs": [],
   "source": [
    "data_dmatrix = xgb.DMatrix(data=X_train, label=y_train)"
   ]
  },
  {
   "cell_type": "code",
   "execution_count": 85,
   "id": "cc17a86b",
   "metadata": {},
   "outputs": [],
   "source": [
    "params = {\"objective\":'reg:squarederror', \"colsample_bytree\":0.5, \"learning_rate\":0.2, \"max_depth\":10, \"alpha\":20}"
   ]
  },
  {
   "cell_type": "code",
   "execution_count": 86,
   "id": "b99ce532",
   "metadata": {},
   "outputs": [],
   "source": [
    "xg_m = xgb.train(params=params, dtrain=data_dmatrix, num_boost_round=50)"
   ]
  },
  {
   "cell_type": "code",
   "execution_count": 87,
   "id": "c3ea13b8",
   "metadata": {},
   "outputs": [],
   "source": [
    "data_dmatrix_test = xgb.DMatrix(data=X_test)"
   ]
  },
  {
   "cell_type": "code",
   "execution_count": 88,
   "id": "508f323c",
   "metadata": {},
   "outputs": [],
   "source": [
    "preds = xg_m.predict(data_dmatrix_test)"
   ]
  },
  {
   "cell_type": "code",
   "execution_count": 91,
   "id": "261d6b3c",
   "metadata": {},
   "outputs": [],
   "source": [
    "def fcv(max_depth, gamma, min_child_weight, subsample, colsample_bytree, learning_rate, num_boost_round):\n",
    "  params = {\"objective\":'reg:squarederror', \"max_depth\":int(max_depth), 'gamma':gamma, 'min_child_weight':min_child_weight, 'subsample':subsample, \"colsample_bytree\":colsample_bytree, \"learning_rate\":learning_rate}\n",
    "  cv_results=xgb.cv(dtrain=data_dmatrix, params=params, nfold=10, num_boost_round=int(num_boost_round), early_stopping_rounds=10, metrics='rmse', as_pandas=True)\n",
    "  return -cv_results['test-rmse-mean'].min() "
   ]
  },
  {
   "cell_type": "code",
   "execution_count": null,
   "id": "6464e7a4",
   "metadata": {},
   "outputs": [],
   "source": [
    "!pip install bayesian-optimization"
   ]
  },
  {
   "cell_type": "code",
   "execution_count": 92,
   "id": "1709d8c3",
   "metadata": {},
   "outputs": [
    {
     "name": "stdout",
     "output_type": "stream",
     "text": [
      "|   iter    |  target   | colsam... |   gamma   | learni... | max_depth | min_ch... | num_bo... | subsample |\n",
      "-------------------------------------------------------------------------------------------------------------\n",
      "| \u001b[0m 1       \u001b[0m | \u001b[0m-879.9   \u001b[0m | \u001b[0m 0.7198  \u001b[0m | \u001b[0m 9.25    \u001b[0m | \u001b[0m 0.7907  \u001b[0m | \u001b[0m 5.854   \u001b[0m | \u001b[0m 4.453   \u001b[0m | \u001b[0m 62.84   \u001b[0m | \u001b[0m 0.4391  \u001b[0m |\n",
      "| \u001b[95m 2       \u001b[0m | \u001b[95m-836.8   \u001b[0m | \u001b[95m 0.5691  \u001b[0m | \u001b[95m 2.331   \u001b[0m | \u001b[95m 0.566   \u001b[0m | \u001b[95m 4.868   \u001b[0m | \u001b[95m 12.5    \u001b[0m | \u001b[95m 87.29   \u001b[0m | \u001b[95m 0.8734  \u001b[0m |\n",
      "| \u001b[0m 3       \u001b[0m | \u001b[0m-890.7   \u001b[0m | \u001b[0m 0.5711  \u001b[0m | \u001b[0m 6.292   \u001b[0m | \u001b[0m 0.3927  \u001b[0m | \u001b[0m 11.8    \u001b[0m | \u001b[0m 17.74   \u001b[0m | \u001b[0m 82.53   \u001b[0m | \u001b[0m 0.4643  \u001b[0m |\n",
      "| \u001b[0m 4       \u001b[0m | \u001b[0m-891.5   \u001b[0m | \u001b[0m 0.9505  \u001b[0m | \u001b[0m 7.75    \u001b[0m | \u001b[0m 0.8869  \u001b[0m | \u001b[0m 11.66   \u001b[0m | \u001b[0m 11.08   \u001b[0m | \u001b[0m 96.48   \u001b[0m | \u001b[0m 0.5121  \u001b[0m |\n",
      "| \u001b[0m 5       \u001b[0m | \u001b[0m-847.1   \u001b[0m | \u001b[0m 0.5471  \u001b[0m | \u001b[0m 3.792   \u001b[0m | \u001b[0m 0.3761  \u001b[0m | \u001b[0m 6.821   \u001b[0m | \u001b[0m 5.976   \u001b[0m | \u001b[0m 61.95   \u001b[0m | \u001b[0m 0.7502  \u001b[0m |\n",
      "| \u001b[0m 6       \u001b[0m | \u001b[0m-913.1   \u001b[0m | \u001b[0m 0.4337  \u001b[0m | \u001b[0m 8.917   \u001b[0m | \u001b[0m 0.901   \u001b[0m | \u001b[0m 6.487   \u001b[0m | \u001b[0m 0.8205  \u001b[0m | \u001b[0m 64.93   \u001b[0m | \u001b[0m 0.9357  \u001b[0m |\n",
      "| \u001b[0m 7       \u001b[0m | \u001b[0m-855.5   \u001b[0m | \u001b[0m 0.6339  \u001b[0m | \u001b[0m 0.9705  \u001b[0m | \u001b[0m 0.8343  \u001b[0m | \u001b[0m 3.218   \u001b[0m | \u001b[0m 18.43   \u001b[0m | \u001b[0m 88.04   \u001b[0m | \u001b[0m 0.8604  \u001b[0m |\n",
      "| \u001b[0m 8       \u001b[0m | \u001b[0m-845.2   \u001b[0m | \u001b[0m 0.98    \u001b[0m | \u001b[0m 8.897   \u001b[0m | \u001b[0m 0.9489  \u001b[0m | \u001b[0m 6.55    \u001b[0m | \u001b[0m 11.12   \u001b[0m | \u001b[0m 30.72   \u001b[0m | \u001b[0m 0.7929  \u001b[0m |\n",
      "| \u001b[0m 9       \u001b[0m | \u001b[0m-866.9   \u001b[0m | \u001b[0m 0.7066  \u001b[0m | \u001b[0m 5.218   \u001b[0m | \u001b[0m 0.6968  \u001b[0m | \u001b[0m 7.278   \u001b[0m | \u001b[0m 9.594   \u001b[0m | \u001b[0m 39.74   \u001b[0m | \u001b[0m 0.6917  \u001b[0m |\n",
      "| \u001b[95m 10      \u001b[0m | \u001b[95m-834.7   \u001b[0m | \u001b[95m 0.7067  \u001b[0m | \u001b[95m 9.064   \u001b[0m | \u001b[95m 0.1632  \u001b[0m | \u001b[95m 3.496   \u001b[0m | \u001b[95m 6.676   \u001b[0m | \u001b[95m 60.64   \u001b[0m | \u001b[95m 0.8147  \u001b[0m |\n",
      "| \u001b[95m 11      \u001b[0m | \u001b[95m-831.6   \u001b[0m | \u001b[95m 0.96    \u001b[0m | \u001b[95m 7.678   \u001b[0m | \u001b[95m 0.2327  \u001b[0m | \u001b[95m 3.89    \u001b[0m | \u001b[95m 5.314   \u001b[0m | \u001b[95m 60.56   \u001b[0m | \u001b[95m 0.8933  \u001b[0m |\n",
      "| \u001b[0m 12      \u001b[0m | \u001b[0m-831.8   \u001b[0m | \u001b[0m 1.0     \u001b[0m | \u001b[0m 6.638   \u001b[0m | \u001b[0m 0.1     \u001b[0m | \u001b[0m 3.26    \u001b[0m | \u001b[0m 6.627   \u001b[0m | \u001b[0m 59.4    \u001b[0m | \u001b[0m 0.9906  \u001b[0m |\n",
      "| \u001b[0m 13      \u001b[0m | \u001b[0m-874.6   \u001b[0m | \u001b[0m 1.0     \u001b[0m | \u001b[0m 8.215   \u001b[0m | \u001b[0m 0.1     \u001b[0m | \u001b[0m 2.078   \u001b[0m | \u001b[0m 4.948   \u001b[0m | \u001b[0m 58.95   \u001b[0m | \u001b[0m 1.0     \u001b[0m |\n",
      "| \u001b[95m 14      \u001b[0m | \u001b[95m-828.2   \u001b[0m | \u001b[95m 0.8885  \u001b[0m | \u001b[95m 7.127   \u001b[0m | \u001b[95m 0.1425  \u001b[0m | \u001b[95m 4.15    \u001b[0m | \u001b[95m 6.703   \u001b[0m | \u001b[95m 60.55   \u001b[0m | \u001b[95m 0.9057  \u001b[0m |\n",
      "| \u001b[0m 15      \u001b[0m | \u001b[0m-842.9   \u001b[0m | \u001b[0m 1.0     \u001b[0m | \u001b[0m 6.251   \u001b[0m | \u001b[0m 0.8709  \u001b[0m | \u001b[0m 4.831   \u001b[0m | \u001b[0m 6.099   \u001b[0m | \u001b[0m 59.53   \u001b[0m | \u001b[0m 0.668   \u001b[0m |\n",
      "| \u001b[0m 16      \u001b[0m | \u001b[0m-872.7   \u001b[0m | \u001b[0m 1.0     \u001b[0m | \u001b[0m 6.692   \u001b[0m | \u001b[0m 0.1     \u001b[0m | \u001b[0m 2.94    \u001b[0m | \u001b[0m 6.558   \u001b[0m | \u001b[0m 61.34   \u001b[0m | \u001b[0m 1.0     \u001b[0m |\n",
      "| \u001b[0m 17      \u001b[0m | \u001b[0m-835.4   \u001b[0m | \u001b[0m 0.82    \u001b[0m | \u001b[0m 6.926   \u001b[0m | \u001b[0m 0.5299  \u001b[0m | \u001b[0m 4.066   \u001b[0m | \u001b[0m 7.735   \u001b[0m | \u001b[0m 59.69   \u001b[0m | \u001b[0m 0.9655  \u001b[0m |\n",
      "| \u001b[0m 18      \u001b[0m | \u001b[0m-828.4   \u001b[0m | \u001b[0m 0.8533  \u001b[0m | \u001b[0m 7.72    \u001b[0m | \u001b[0m 0.1     \u001b[0m | \u001b[0m 4.269   \u001b[0m | \u001b[0m 6.426   \u001b[0m | \u001b[0m 59.91   \u001b[0m | \u001b[0m 0.9098  \u001b[0m |\n",
      "| \u001b[0m 19      \u001b[0m | \u001b[0m-831.6   \u001b[0m | \u001b[0m 1.0     \u001b[0m | \u001b[0m 7.811   \u001b[0m | \u001b[0m 0.1     \u001b[0m | \u001b[0m 4.563   \u001b[0m | \u001b[0m 6.318   \u001b[0m | \u001b[0m 60.66   \u001b[0m | \u001b[0m 0.4     \u001b[0m |\n",
      "| \u001b[0m 20      \u001b[0m | \u001b[0m-861.1   \u001b[0m | \u001b[0m 0.4     \u001b[0m | \u001b[0m 7.156   \u001b[0m | \u001b[0m 0.1     \u001b[0m | \u001b[0m 4.372   \u001b[0m | \u001b[0m 6.201   \u001b[0m | \u001b[0m 60.24   \u001b[0m | \u001b[0m 1.0     \u001b[0m |\n",
      "| \u001b[0m 21      \u001b[0m | \u001b[0m-851.0   \u001b[0m | \u001b[0m 0.7615  \u001b[0m | \u001b[0m 1.653   \u001b[0m | \u001b[0m 0.6976  \u001b[0m | \u001b[0m 3.951   \u001b[0m | \u001b[0m 12.07   \u001b[0m | \u001b[0m 87.6    \u001b[0m | \u001b[0m 0.7039  \u001b[0m |\n",
      "| \u001b[0m 22      \u001b[0m | \u001b[0m-840.3   \u001b[0m | \u001b[0m 1.0     \u001b[0m | \u001b[0m 7.427   \u001b[0m | \u001b[0m 0.6288  \u001b[0m | \u001b[0m 4.174   \u001b[0m | \u001b[0m 6.931   \u001b[0m | \u001b[0m 60.22   \u001b[0m | \u001b[0m 0.6412  \u001b[0m |\n",
      "| \u001b[0m 23      \u001b[0m | \u001b[0m-843.7   \u001b[0m | \u001b[0m 0.6974  \u001b[0m | \u001b[0m 7.384   \u001b[0m | \u001b[0m 0.4181  \u001b[0m | \u001b[0m 3.299   \u001b[0m | \u001b[0m 6.667   \u001b[0m | \u001b[0m 59.79   \u001b[0m | \u001b[0m 0.5423  \u001b[0m |\n",
      "| \u001b[0m 24      \u001b[0m | \u001b[0m-856.8   \u001b[0m | \u001b[0m 0.8435  \u001b[0m | \u001b[0m 7.686   \u001b[0m | \u001b[0m 0.7772  \u001b[0m | \u001b[0m 4.587   \u001b[0m | \u001b[0m 5.763   \u001b[0m | \u001b[0m 59.75   \u001b[0m | \u001b[0m 0.4208  \u001b[0m |\n",
      "| \u001b[0m 25      \u001b[0m | \u001b[0m-832.5   \u001b[0m | \u001b[0m 0.9617  \u001b[0m | \u001b[0m 7.124   \u001b[0m | \u001b[0m 0.3599  \u001b[0m | \u001b[0m 4.268   \u001b[0m | \u001b[0m 7.697   \u001b[0m | \u001b[0m 60.36   \u001b[0m | \u001b[0m 0.725   \u001b[0m |\n",
      "| \u001b[0m 26      \u001b[0m | \u001b[0m-828.2   \u001b[0m | \u001b[0m 1.0     \u001b[0m | \u001b[0m 7.939   \u001b[0m | \u001b[0m 0.1     \u001b[0m | \u001b[0m 4.049   \u001b[0m | \u001b[0m 6.598   \u001b[0m | \u001b[0m 60.39   \u001b[0m | \u001b[0m 1.0     \u001b[0m |\n",
      "| \u001b[0m 27      \u001b[0m | \u001b[0m-828.3   \u001b[0m | \u001b[0m 1.0     \u001b[0m | \u001b[0m 7.201   \u001b[0m | \u001b[0m 0.1     \u001b[0m | \u001b[0m 4.131   \u001b[0m | \u001b[0m 7.043   \u001b[0m | \u001b[0m 60.08   \u001b[0m | \u001b[0m 1.0     \u001b[0m |\n",
      "| \u001b[0m 28      \u001b[0m | \u001b[0m-835.8   \u001b[0m | \u001b[0m 0.9379  \u001b[0m | \u001b[0m 7.134   \u001b[0m | \u001b[0m 0.1889  \u001b[0m | \u001b[0m 3.722   \u001b[0m | \u001b[0m 6.267   \u001b[0m | \u001b[0m 58.59   \u001b[0m | \u001b[0m 0.4381  \u001b[0m |\n",
      "| \u001b[0m 29      \u001b[0m | \u001b[0m-828.4   \u001b[0m | \u001b[0m 1.0     \u001b[0m | \u001b[0m 7.265   \u001b[0m | \u001b[0m 0.1     \u001b[0m | \u001b[0m 4.483   \u001b[0m | \u001b[0m 7.031   \u001b[0m | \u001b[0m 60.79   \u001b[0m | \u001b[0m 0.8896  \u001b[0m |\n",
      "| \u001b[0m 30      \u001b[0m | \u001b[0m-832.9   \u001b[0m | \u001b[0m 1.0     \u001b[0m | \u001b[0m 6.286   \u001b[0m | \u001b[0m 0.1     \u001b[0m | \u001b[0m 3.944   \u001b[0m | \u001b[0m 7.15    \u001b[0m | \u001b[0m 59.1    \u001b[0m | \u001b[0m 0.5359  \u001b[0m |\n",
      "=============================================================================================================\n"
     ]
    }
   ],
   "source": [
    "from bayes_opt import BayesianOptimization\n",
    "\n",
    "#Now, create a dictionary for the boundaries we should search within, and call\n",
    "#the bayesian optimization function!\n",
    "dict_cv = {\n",
    "          'max_depth': (2, 12),\n",
    "          'gamma': (0.001, 10.0),\n",
    "          'min_child_weight': (0, 20),\n",
    "          'subsample': (0.4, 1.0),\n",
    "          'colsample_bytree': (0.4, 1.0),\n",
    "          'learning_rate': (0.1, 1.0),\n",
    "          'num_boost_round' :(30, 100)\n",
    "          }\n",
    "\n",
    "\n",
    "\n",
    "XGB_BO = BayesianOptimization(fcv, dict_cv) #Creating the optimizer\n",
    "XGB_BO.maximize(init_points=10, n_iter=20, acq='ei', xi=0.0) #Running optimization!"
   ]
  },
  {
   "cell_type": "code",
   "execution_count": 93,
   "id": "b67a59f0",
   "metadata": {},
   "outputs": [],
   "source": [
    "params = XGB_BO.max['params']\n",
    "params['max_depth'] = int(params['max_depth'])"
   ]
  },
  {
   "cell_type": "code",
   "execution_count": 94,
   "id": "92346cee",
   "metadata": {},
   "outputs": [
    {
     "name": "stdout",
     "output_type": "stream",
     "text": [
      "852.9985357444682\n"
     ]
    }
   ],
   "source": [
    "RMSE = np.sqrt(mean_squared_error(preds, y_test))\n",
    "print(RMSE)"
   ]
  }
 ],
 "metadata": {
  "kernelspec": {
   "display_name": "Python 3",
   "language": "python",
   "name": "python3"
  },
  "language_info": {
   "codemirror_mode": {
    "name": "ipython",
    "version": 3
   },
   "file_extension": ".py",
   "mimetype": "text/x-python",
   "name": "python",
   "nbconvert_exporter": "python",
   "pygments_lexer": "ipython3",
   "version": "3.8.8"
  }
 },
 "nbformat": 4,
 "nbformat_minor": 5
}
